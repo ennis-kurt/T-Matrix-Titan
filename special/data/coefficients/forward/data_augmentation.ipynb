{
 "cells": [
  {
   "cell_type": "code",
   "execution_count": 1,
   "metadata": {},
   "outputs": [],
   "source": [
    "import pandas as pd\n",
    "import numpy as np\n",
    "\n",
    "import matplotlib.pyplot as plt\n",
    "import seaborn as sns\n",
    "\n",
    "from sdv.tabular import CopulaGAN\n",
    "from sdv.tabular import TVAE\n",
    "from sdv.tabular import GaussianCopula\n",
    "from sdv.tabular import CTGAN\n",
    "from sdv.evaluation import evaluate\n",
    "\n",
    "from sklearn.preprocessing import PowerTransformer\n",
    "from sklearn.model_selection import train_test_split\n",
    "\n",
    "# Function for reshaping data after power transformation\n",
    "def reshape_after_pt(df_pt, df): \n",
    "    df_pt = pd.DataFrame(df_pt, columns=\n",
    "                             df.columns)\n",
    "    df_pt.index = df.index\n",
    "    return df_pt"
   ]
  },
  {
   "cell_type": "code",
   "execution_count": 2,
   "metadata": {},
   "outputs": [
    {
     "data": {
      "text/html": [
       "<div>\n",
       "<style scoped>\n",
       "    .dataframe tbody tr th:only-of-type {\n",
       "        vertical-align: middle;\n",
       "    }\n",
       "\n",
       "    .dataframe tbody tr th {\n",
       "        vertical-align: top;\n",
       "    }\n",
       "\n",
       "    .dataframe thead th {\n",
       "        text-align: right;\n",
       "    }\n",
       "</style>\n",
       "<table border=\"1\" class=\"dataframe\">\n",
       "  <thead>\n",
       "    <tr style=\"text-align: right;\">\n",
       "      <th></th>\n",
       "      <th>N</th>\n",
       "      <th>xm</th>\n",
       "      <th>nr</th>\n",
       "      <th>ni</th>\n",
       "      <th>p1</th>\n",
       "      <th>p2</th>\n",
       "      <th>p3</th>\n",
       "    </tr>\n",
       "  </thead>\n",
       "  <tbody>\n",
       "    <tr>\n",
       "      <th>130</th>\n",
       "      <td>8</td>\n",
       "      <td>0.64</td>\n",
       "      <td>1.68</td>\n",
       "      <td>0.023</td>\n",
       "      <td>2.264412</td>\n",
       "      <td>-0.024074</td>\n",
       "      <td>-0.028666</td>\n",
       "    </tr>\n",
       "    <tr>\n",
       "      <th>33</th>\n",
       "      <td>7</td>\n",
       "      <td>0.43</td>\n",
       "      <td>1.98</td>\n",
       "      <td>0.090</td>\n",
       "      <td>0.368385</td>\n",
       "      <td>0.001454</td>\n",
       "      <td>0.003609</td>\n",
       "    </tr>\n",
       "    <tr>\n",
       "      <th>228</th>\n",
       "      <td>9</td>\n",
       "      <td>0.64</td>\n",
       "      <td>1.71</td>\n",
       "      <td>0.045</td>\n",
       "      <td>8.374907</td>\n",
       "      <td>-0.590124</td>\n",
       "      <td>-0.410611</td>\n",
       "    </tr>\n",
       "    <tr>\n",
       "      <th>54</th>\n",
       "      <td>7</td>\n",
       "      <td>0.64</td>\n",
       "      <td>2.00</td>\n",
       "      <td>0.023</td>\n",
       "      <td>1.179810</td>\n",
       "      <td>-0.000168</td>\n",
       "      <td>-0.004469</td>\n",
       "    </tr>\n",
       "    <tr>\n",
       "      <th>241</th>\n",
       "      <td>9</td>\n",
       "      <td>0.82</td>\n",
       "      <td>1.54</td>\n",
       "      <td>0.042</td>\n",
       "      <td>14.044405</td>\n",
       "      <td>-0.527261</td>\n",
       "      <td>-0.489880</td>\n",
       "    </tr>\n",
       "  </tbody>\n",
       "</table>\n",
       "</div>"
      ],
      "text/plain": [
       "     N    xm    nr     ni         p1        p2        p3\n",
       "130  8  0.64  1.68  0.023   2.264412 -0.024074 -0.028666\n",
       "33   7  0.43  1.98  0.090   0.368385  0.001454  0.003609\n",
       "228  9  0.64  1.71  0.045   8.374907 -0.590124 -0.410611\n",
       "54   7  0.64  2.00  0.023   1.179810 -0.000168 -0.004469\n",
       "241  9  0.82  1.54  0.042  14.044405 -0.527261 -0.489880"
      ]
     },
     "execution_count": 2,
     "metadata": {},
     "output_type": "execute_result"
    }
   ],
   "source": [
    "df = pd.read_csv('allregimes.csv')\n",
    "df = df[['N','xm','nr','ni','p1','p2','p3']]\n",
    "df.loc[:, \"N\"] = np.log2(df['N']).apply(int)\n",
    "df.sample(5)"
   ]
  },
  {
   "cell_type": "markdown",
   "metadata": {},
   "source": [
    "## Train / Test Split"
   ]
  },
  {
   "cell_type": "code",
   "execution_count": 3,
   "metadata": {},
   "outputs": [],
   "source": [
    "features = ['N','xm','nr','ni']\n",
    "response = ['p1','p2','p3']\n",
    "X = df[features]\n",
    "y = df[response]\n",
    "\n",
    "# train/test spliting\n",
    "# Call train_test_split on X, y. Make the test_size = 0.2\n",
    "X_train, X_test, y_train, y_test = train_test_split(X, y, \n",
    "                                                    test_size=0.2)"
   ]
  },
  {
   "cell_type": "code",
   "execution_count": 4,
   "metadata": {},
   "outputs": [],
   "source": [
    "import warnings\n",
    "warnings.filterwarnings(\"ignore\")"
   ]
  },
  {
   "cell_type": "code",
   "execution_count": 5,
   "metadata": {},
   "outputs": [],
   "source": [
    "df_train = X_train.join(y_train)"
   ]
  },
  {
   "cell_type": "code",
   "execution_count": 8,
   "metadata": {},
   "outputs": [],
   "source": [
    "# # ! pip install bayesian-optimization\n",
    "from bayes_opt import BayesianOptimization"
   ]
  },
  {
   "cell_type": "code",
   "execution_count": 9,
   "metadata": {
    "pycharm": {
     "is_executing": true
    }
   },
   "outputs": [
    {
     "name": "stdout",
     "output_type": "stream",
     "text": [
      "|   iter    |  target   | batch_... |  epochs   |\n",
      "-------------------------------------------------\n"
     ]
    },
    {
     "ename": "",
     "evalue": "",
     "output_type": "error",
     "traceback": [
      "\u001b[1;31mThe Kernel crashed while executing code in the the current cell or a previous cell. Please review the code in the cell(s) to identify a possible cause of the failure. Click <a href='https://aka.ms/vscodeJupyterKernelCrash'>here</a> for more info. View Jupyter <a href='command:jupyter.viewOutput'>log</a> for further details."
     ]
    },
    {
     "ename": "",
     "evalue": "",
     "output_type": "error",
     "traceback": [
      "\u001b[1;31mCanceled future for execute_request message before replies were done"
     ]
    }
   ],
   "source": [
    "def find_best_sample(epochs, batch_size):\n",
    "  batch_size = int(batch_size - batch_size%10)\n",
    "  epochs = int(epochs)\n",
    "  model = CopulaGAN(\n",
    "          epochs=epochs,\n",
    "          batch_size=batch_size\n",
    "          )\n",
    "  model.fit(df_train)\n",
    "  new_X = model.sample(num_rows=200,randomize_samples=False)\n",
    "  score = evaluate(new_X, df_train)\n",
    "\n",
    "  return score\n",
    "\n",
    "lgbBO = BayesianOptimization(find_best_sample, {'epochs': (300, 1700),\n",
    "                                                'batch_size': (10, 400)\n",
    "                                                })\n",
    "\n",
    "lgbBO.maximize(n_iter=100, init_points=20)\n"
   ]
  },
  {
   "cell_type": "code",
   "execution_count": 1,
   "metadata": {},
   "outputs": [
    {
     "ename": "NameError",
     "evalue": "name 'np' is not defined",
     "output_type": "error",
     "traceback": [
      "\u001b[0;31m---------------------------------------------------------------------------\u001b[0m",
      "\u001b[0;31mNameError\u001b[0m                                 Traceback (most recent call last)",
      "\u001b[0;32m/var/folders/84/l9st1k315sj82prp7w5_mc900000gn/T/ipykernel_28875/237975093.py\u001b[0m in \u001b[0;36m<module>\u001b[0;34m\u001b[0m\n\u001b[1;32m      1\u001b[0m \u001b[0mtest\u001b[0m\u001b[0;34m=\u001b[0m\u001b[0;34m[\u001b[0m\u001b[0;34m]\u001b[0m\u001b[0;34m\u001b[0m\u001b[0;34m\u001b[0m\u001b[0m\n\u001b[1;32m      2\u001b[0m \u001b[0mbest_score\u001b[0m \u001b[0;34m=\u001b[0m \u001b[0;36m0.7\u001b[0m\u001b[0;34m\u001b[0m\u001b[0;34m\u001b[0m\u001b[0m\n\u001b[0;32m----> 3\u001b[0;31m \u001b[0;32mfor\u001b[0m \u001b[0mepochs\u001b[0m \u001b[0;32min\u001b[0m \u001b[0mnp\u001b[0m\u001b[0;34m.\u001b[0m\u001b[0marange\u001b[0m\u001b[0;34m(\u001b[0m\u001b[0;36m900\u001b[0m\u001b[0;34m,\u001b[0m \u001b[0;36m950\u001b[0m\u001b[0;34m,\u001b[0m \u001b[0;36m10\u001b[0m\u001b[0;34m)\u001b[0m\u001b[0;34m:\u001b[0m\u001b[0;34m\u001b[0m\u001b[0;34m\u001b[0m\u001b[0m\n\u001b[0m\u001b[1;32m      4\u001b[0m         \u001b[0;32mfor\u001b[0m \u001b[0mbatch_size\u001b[0m \u001b[0;32min\u001b[0m \u001b[0mrange\u001b[0m\u001b[0;34m(\u001b[0m\u001b[0;36m10\u001b[0m\u001b[0;34m,\u001b[0m\u001b[0;36m600\u001b[0m\u001b[0;34m,\u001b[0m\u001b[0;36m100\u001b[0m\u001b[0;34m)\u001b[0m\u001b[0;34m:\u001b[0m\u001b[0;34m\u001b[0m\u001b[0;34m\u001b[0m\u001b[0m\n\u001b[1;32m      5\u001b[0m                 model = TVAE(\n",
      "\u001b[0;31mNameError\u001b[0m: name 'np' is not defined"
     ]
    }
   ],
   "source": [
    "test=[]\n",
    "best_score = 0.7\n",
    "for epochs in np.arange(900, 950, 10):\n",
    "        for batch_size in range(10,600,100):\n",
    "                model = TVAE(\n",
    "                        epochs=epochs,\n",
    "                        batch_size=batch_size\n",
    "                        )\n",
    "                model.fit(df_train)\n",
    "                # let's do a few cross validation for sample evaluation score\n",
    "                new_X = model.sample(num_rows=200)\n",
    "                score = scores.append(evaluate(new_X, df_train,metrics=[ 'KSTest']))\n",
    "\n",
    "                if score > best_score:\n",
    "                        best_score = score\n",
    "                        best_model = model\n",
    "                        test.append((epochs, batch_size, score))\n",
    "                        print(epochs,batch_size,score)"
   ]
  },
  {
   "cell_type": "code",
   "execution_count": 218,
   "metadata": {},
   "outputs": [],
   "source": [
    "best_model1 = best_model # 1600 340 0.7446069213527036"
   ]
  },
  {
   "cell_type": "code",
   "execution_count": 216,
   "metadata": {},
   "outputs": [
    {
     "name": "stdout",
     "output_type": "stream",
     "text": [
      "0 0.8739682539682541\n",
      "1 0.8780952380952382\n",
      "2 0.8722751322751322\n",
      "3 0.8364550264550266\n",
      "4 0.8769047619047619\n",
      "5 0.8842857142857142\n",
      "6 0.8623280423280423\n",
      "7 0.8748677248677249\n",
      "8 0.8834656084656084\n",
      "9 0.875026455026455\n",
      "10 0.8699470899470898\n",
      "11 0.8807936507936509\n",
      "12 0.8614285714285713\n",
      "13 0.867989417989418\n",
      "14 0.8607936507936509\n",
      "15 0.8738624338624339\n",
      "16 0.8669312169312169\n",
      "17 0.8715608465608465\n",
      "18 0.8583597883597883\n",
      "19 0.8564814814814816\n",
      "20 0.8752645502645502\n",
      "21 0.8502645502645504\n",
      "22 0.8599470899470899\n",
      "23 0.875978835978836\n",
      "24 0.8662433862433863\n",
      "25 0.8715608465608466\n",
      "26 0.8710052910052911\n",
      "27 0.8753968253968256\n",
      "28 0.8661111111111112\n",
      "29 0.8661904761904761\n",
      "30 0.8579894179894181\n",
      "31 0.8715079365079365\n",
      "32 0.8741269841269841\n",
      "33 0.8704497354497355\n",
      "34 0.8676984126984127\n",
      "35 0.8606349206349206\n",
      "36 0.866984126984127\n",
      "37 0.8902116402116401\n",
      "38 0.8714021164021164\n",
      "39 0.8651587301587301\n",
      "40 0.8854497354497354\n",
      "41 0.8725925925925927\n",
      "42 0.8845238095238095\n",
      "43 0.8627248677248678\n",
      "44 0.8853439153439153\n",
      "45 0.8803174603174603\n",
      "46 0.8547354497354497\n",
      "47 0.8764285714285714\n",
      "48 0.8675925925925924\n",
      "49 0.8653968253968253\n"
     ]
    },
    {
     "data": {
      "text/plain": [
       "0.8699010582010582"
      ]
     },
     "execution_count": 216,
     "metadata": {},
     "output_type": "execute_result"
    }
   ],
   "source": [
    "samples = np.zeros(50).tolist()\n",
    "scores=[]\n",
    "for i in range(50):\n",
    "        new_X = best_model.sample(num_rows=200)\n",
    "        samples[i] = new_X\n",
    "        scores.append(evaluate(new_X, df_train,metrics=[ 'KSTest']))\n",
    "        print(i, evaluate(new_X, df_train, metrics=[ 'KSTest']))\n",
    "score = np.array(scores).mean()\n",
    "score"
   ]
  },
  {
   "cell_type": "code",
   "execution_count": 8,
   "metadata": {},
   "outputs": [],
   "source": [
    "pd.Series(scores).iloc[133]"
   ]
  },
  {
   "cell_type": "code",
   "execution_count": 9,
   "metadata": {},
   "outputs": [
    {
     "ename": "NameError",
     "evalue": "name 'samples' is not defined",
     "output_type": "error",
     "traceback": [
      "\u001b[1;31m---------------------------------------------------------------------------\u001b[0m",
      "\u001b[1;31mNameError\u001b[0m                                 Traceback (most recent call last)",
      "\u001b[1;32m~\\AppData\\Local\\Temp/ipykernel_20124/419888022.py\u001b[0m in \u001b[0;36m<module>\u001b[1;34m\u001b[0m\n\u001b[1;32m----> 1\u001b[1;33m \u001b[0mevaluate\u001b[0m\u001b[1;33m(\u001b[0m\u001b[0msamples\u001b[0m\u001b[1;33m[\u001b[0m\u001b[1;36m29\u001b[0m\u001b[1;33m]\u001b[0m\u001b[1;33m,\u001b[0m \u001b[0mdf_train\u001b[0m\u001b[1;33m,\u001b[0m \u001b[0mmetrics\u001b[0m\u001b[1;33m=\u001b[0m\u001b[1;33m[\u001b[0m \u001b[1;34m'KSTest'\u001b[0m\u001b[1;33m]\u001b[0m\u001b[1;33m)\u001b[0m\u001b[1;33m\u001b[0m\u001b[1;33m\u001b[0m\u001b[0m\n\u001b[0m",
      "\u001b[1;31mNameError\u001b[0m: name 'samples' is not defined"
     ]
    }
   ],
   "source": [
    "evaluate(samples[29], df_train, metrics=[ 'KSTest'])"
   ]
  },
  {
   "cell_type": "code",
   "execution_count": 10,
   "metadata": {},
   "outputs": [
    {
     "ename": "NameError",
     "evalue": "name 'samples' is not defined",
     "output_type": "error",
     "traceback": [
      "\u001b[1;31m---------------------------------------------------------------------------\u001b[0m",
      "\u001b[1;31mNameError\u001b[0m                                 Traceback (most recent call last)",
      "\u001b[1;32m~\\AppData\\Local\\Temp/ipykernel_20124/2528508783.py\u001b[0m in \u001b[0;36m<module>\u001b[1;34m\u001b[0m\n\u001b[1;32m----> 1\u001b[1;33m \u001b[0msamples\u001b[0m\u001b[1;33m[\u001b[0m\u001b[1;36m29\u001b[0m\u001b[1;33m]\u001b[0m\u001b[1;33m\u001b[0m\u001b[1;33m\u001b[0m\u001b[0m\n\u001b[0m",
      "\u001b[1;31mNameError\u001b[0m: name 'samples' is not defined"
     ]
    }
   ],
   "source": [
    "samples[29]"
   ]
  },
  {
   "cell_type": "code",
   "execution_count": 137,
   "metadata": {},
   "outputs": [
    {
     "name": "stdout",
     "output_type": "stream",
     "text": [
      "1400 40 3e-05 0.7001419130645048\n",
      "1400 60 2e-05 0.7095838914657108\n"
     ]
    }
   ],
   "source": [
    "\n",
    "test=[]\n",
    "best_score = 0.7\n",
    "for ep_bs in old_test:\n",
    "    epochs = ep_bs[0]\n",
    "    batch_size = ep_bs[1]\n",
    "    for l2scale in (2e-5,3e-5):\n",
    "        model = TVAE(\n",
    "                epochs=epochs,\n",
    "                batch_size=batch_size,\n",
    "                field_transformers = {'N':'integer'}\n",
    "                )\n",
    "        model.fit(df_train)\n",
    "        new_X = model.sample(num_rows=200)\n",
    "        # let's do a few cross validation for sample evaluation score\n",
    "        scores = []\n",
    "        for i in range(6):\n",
    "                scores.append(evaluate(new_X, df_train))\n",
    "        score = np.array(scores).mean()\n",
    "\n",
    "        if score > best_score:\n",
    "                best_score = score\n",
    "                best_model = model\n",
    "                test.append((epochs, batch_size, l2scale, score))\n",
    "                print(epochs,batch_size,l2scale, score)"
   ]
  },
  {
   "cell_type": "code",
   "execution_count": 178,
   "metadata": {},
   "outputs": [],
   "source": [
    "model = TVAE(\n",
    "                epochs=1500,\n",
    "                batch_size=40,\n",
    "                field_transformers = {'N':'integer'}\n",
    "                )\n",
    "model.fit(df_train)\n"
   ]
  },
  {
   "cell_type": "code",
   "execution_count": 179,
   "metadata": {},
   "outputs": [
    {
     "name": "stdout",
     "output_type": "stream",
     "text": [
      "0 0.6944994020808389\n",
      "1 0.6952453657357992\n",
      "2 0.7084083445449182\n",
      "3 0.6916762261433207\n",
      "4 0.6836204384599361\n",
      "5 0.6989661808140816\n"
     ]
    },
    {
     "data": {
      "text/plain": [
       "0.6852343339243213"
      ]
     },
     "execution_count": 179,
     "metadata": {},
     "output_type": "execute_result"
    }
   ],
   "source": [
    "samples = np.zeros(6).tolist()\n",
    "for i in range(6):\n",
    "        new_X = model.sample(num_rows=200)\n",
    "        samples[i] = new_X\n",
    "        scores.append(evaluate(new_X, df_train))\n",
    "        print(i, evaluate(new_X, df_train))\n",
    "score = np.array(scores).mean()\n",
    "score"
   ]
  },
  {
   "cell_type": "code",
   "execution_count": 128,
   "metadata": {},
   "outputs": [],
   "source": [
    "best_model1 = best_model # 1620, 60, 1e-5, 0.7525883662778351\n",
    "import pickle\n",
    "with open('synthetic_TVAE_1620_60.pkl', 'wb') as f:\n",
    "    # Pickle the 'data' dictionary using the highest protocol available.\n",
    "    pickle.dump(best_model1, f, pickle.HIGHEST_PROTOCOL)"
   ]
  },
  {
   "cell_type": "code",
   "execution_count": 114,
   "metadata": {},
   "outputs": [
    {
     "data": {
      "text/plain": [
       "0.855511400688174"
      ]
     },
     "execution_count": 114,
     "metadata": {},
     "output_type": "execute_result"
    }
   ],
   "source": [
    "new_X = best_model.sample(num_rows=200)\n",
    "evaluate(new_X, X)\n"
   ]
  },
  {
   "cell_type": "code",
   "execution_count": 115,
   "metadata": {},
   "outputs": [
    {
     "data": {
      "text/html": [
       "<div>\n",
       "<style scoped>\n",
       "    .dataframe tbody tr th:only-of-type {\n",
       "        vertical-align: middle;\n",
       "    }\n",
       "\n",
       "    .dataframe tbody tr th {\n",
       "        vertical-align: top;\n",
       "    }\n",
       "\n",
       "    .dataframe thead th {\n",
       "        text-align: right;\n",
       "    }\n",
       "</style>\n",
       "<table border=\"1\" class=\"dataframe\">\n",
       "  <thead>\n",
       "    <tr style=\"text-align: right;\">\n",
       "      <th></th>\n",
       "      <th>epochs</th>\n",
       "      <th>batch_size</th>\n",
       "      <th>score</th>\n",
       "    </tr>\n",
       "  </thead>\n",
       "  <tbody>\n",
       "    <tr>\n",
       "      <th>0</th>\n",
       "      <td>300</td>\n",
       "      <td>200</td>\n",
       "      <td>0.613689</td>\n",
       "    </tr>\n",
       "    <tr>\n",
       "      <th>1</th>\n",
       "      <td>300</td>\n",
       "      <td>300</td>\n",
       "      <td>0.656833</td>\n",
       "    </tr>\n",
       "    <tr>\n",
       "      <th>2</th>\n",
       "      <td>500</td>\n",
       "      <td>50</td>\n",
       "      <td>0.665662</td>\n",
       "    </tr>\n",
       "    <tr>\n",
       "      <th>3</th>\n",
       "      <td>500</td>\n",
       "      <td>100</td>\n",
       "      <td>0.673390</td>\n",
       "    </tr>\n",
       "    <tr>\n",
       "      <th>4</th>\n",
       "      <td>500</td>\n",
       "      <td>200</td>\n",
       "      <td>0.719128</td>\n",
       "    </tr>\n",
       "    <tr>\n",
       "      <th>5</th>\n",
       "      <td>500</td>\n",
       "      <td>300</td>\n",
       "      <td>0.765968</td>\n",
       "    </tr>\n",
       "    <tr>\n",
       "      <th>6</th>\n",
       "      <td>1100</td>\n",
       "      <td>50</td>\n",
       "      <td>0.780827</td>\n",
       "    </tr>\n",
       "    <tr>\n",
       "      <th>7</th>\n",
       "      <td>1500</td>\n",
       "      <td>50</td>\n",
       "      <td>0.791053</td>\n",
       "    </tr>\n",
       "    <tr>\n",
       "      <th>8</th>\n",
       "      <td>1500</td>\n",
       "      <td>550</td>\n",
       "      <td>0.795990</td>\n",
       "    </tr>\n",
       "    <tr>\n",
       "      <th>9</th>\n",
       "      <td>1700</td>\n",
       "      <td>50</td>\n",
       "      <td>0.814314</td>\n",
       "    </tr>\n",
       "    <tr>\n",
       "      <th>10</th>\n",
       "      <td>1700</td>\n",
       "      <td>350</td>\n",
       "      <td>0.847646</td>\n",
       "    </tr>\n",
       "  </tbody>\n",
       "</table>\n",
       "</div>"
      ],
      "text/plain": [
       "    epochs  batch_size     score\n",
       "0      300         200  0.613689\n",
       "1      300         300  0.656833\n",
       "2      500          50  0.665662\n",
       "3      500         100  0.673390\n",
       "4      500         200  0.719128\n",
       "5      500         300  0.765968\n",
       "6     1100          50  0.780827\n",
       "7     1500          50  0.791053\n",
       "8     1500         550  0.795990\n",
       "9     1700          50  0.814314\n",
       "10    1700         350  0.847646"
      ]
     },
     "execution_count": 115,
     "metadata": {},
     "output_type": "execute_result"
    }
   ],
   "source": [
    "test_df = pd.DataFrame(test, columns=['epochs','batch_size','score'])\n",
    "test_df.sort_values(by='score').tail(55)"
   ]
  },
  {
   "cell_type": "code",
   "execution_count": 104,
   "metadata": {},
   "outputs": [
    {
     "data": {
      "text/plain": [
       "0.567579611324123"
      ]
     },
     "execution_count": 104,
     "metadata": {},
     "output_type": "execute_result"
    }
   ],
   "source": [
    "model = CTGAN(\n",
    "        epochs=1350,\n",
    "        batch_size=50,\n",
    "        generator_dim=(256, 256, 256),\n",
    "        discriminator_dim=(256, 256, 256),\n",
    "        field_transformers = {'N':'integer'}\n",
    "        )\n",
    "model.fit(X)\n",
    "new_X = model.sample(num_rows=200)\n",
    "new_X = model.sample(num_rows=200)\n",
    "evaluate(new_X, X)"
   ]
  },
  {
   "cell_type": "code",
   "execution_count": 87,
   "metadata": {},
   "outputs": [
    {
     "name": "stderr",
     "output_type": "stream",
     "text": [
      "C:\\Users\\kurt_\\Anaconda3\\lib\\site-packages\\sdmetrics\\column_pairs\\statistical\\kl_divergence.py:51: SettingWithCopyWarning: \n",
      "A value is trying to be set on a copy of a slice from a DataFrame.\n",
      "Try using .loc[row_indexer,col_indexer] = value instead\n",
      "\n",
      "See the caveats in the documentation: https://pandas.pydata.org/pandas-docs/stable/user_guide/indexing.html#returning-a-view-versus-a-copy\n",
      "  real_data[pd.isna(real_data)] = 0.0\n",
      "C:\\Users\\kurt_\\Anaconda3\\lib\\site-packages\\pandas\\core\\frame.py:3718: SettingWithCopyWarning: \n",
      "A value is trying to be set on a copy of a slice from a DataFrame\n",
      "\n",
      "See the caveats in the documentation: https://pandas.pydata.org/pandas-docs/stable/user_guide/indexing.html#returning-a-view-versus-a-copy\n",
      "  self._where(-key, value, inplace=True)\n",
      "C:\\Users\\kurt_\\Anaconda3\\lib\\site-packages\\sdmetrics\\column_pairs\\statistical\\kl_divergence.py:52: SettingWithCopyWarning: \n",
      "A value is trying to be set on a copy of a slice from a DataFrame.\n",
      "Try using .loc[row_indexer,col_indexer] = value instead\n",
      "\n",
      "See the caveats in the documentation: https://pandas.pydata.org/pandas-docs/stable/user_guide/indexing.html#returning-a-view-versus-a-copy\n",
      "  synthetic_data[pd.isna(synthetic_data)] = 0.0\n"
     ]
    },
    {
     "data": {
      "text/plain": [
       "0.39160556538543717"
      ]
     },
     "execution_count": 87,
     "metadata": {},
     "output_type": "execute_result"
    }
   ],
   "source": [
    "new_df = model.sample(num_rows=200)\n",
    "evaluate(new_df, df)"
   ]
  },
  {
   "cell_type": "markdown",
   "metadata": {},
   "source": [
    "model = CTGAN(\n",
    "        epochs=1000,\n",
    "        batch_size=60,\n",
    "        generator_dim=(256, 256, 256),\n",
    "        discriminator_dim=(256, 256, 256),\n",
    "        field_transformers = {'N':'integer'}\n",
    "        ) = 0.6432289560005547"
   ]
  },
  {
   "cell_type": "code",
   "execution_count": 116,
   "metadata": {},
   "outputs": [
    {
     "data": {
      "text/plain": [
       "<AxesSubplot:>"
      ]
     },
     "execution_count": 116,
     "metadata": {},
     "output_type": "execute_result"
    },
    {
     "data": {
      "image/png": "[encoded data removed]",
      "text/plain": [
       "<Figure size 432x288 with 2 Axes>"
      ]
     },
     "metadata": {
      "needs_background": "light"
     },
     "output_type": "display_data"
    }
   ],
   "source": [
    "sns.heatmap(new_X.corr())"
   ]
  },
  {
   "cell_type": "code",
   "execution_count": 117,
   "metadata": {},
   "outputs": [
    {
     "data": {
      "text/plain": [
       "<AxesSubplot:>"
      ]
     },
     "execution_count": 117,
     "metadata": {},
     "output_type": "execute_result"
    },
    {
     "data": {
      "image/png": "[encoded data removed]",
      "text/plain": [
       "<Figure size 432x288 with 2 Axes>"
      ]
     },
     "metadata": {
      "needs_background": "light"
     },
     "output_type": "display_data"
    }
   ],
   "source": [
    "sns.heatmap(X.corr())"
   ]
  },
  {
   "cell_type": "code",
   "execution_count": 48,
   "metadata": {},
   "outputs": [
    {
     "name": "stderr",
     "output_type": "stream",
     "text": [
      "C:\\Users\\kurt_\\Anaconda3\\lib\\site-packages\\sdmetrics\\column_pairs\\statistical\\kl_divergence.py:51: SettingWithCopyWarning: \n",
      "A value is trying to be set on a copy of a slice from a DataFrame.\n",
      "Try using .loc[row_indexer,col_indexer] = value instead\n",
      "\n",
      "See the caveats in the documentation: https://pandas.pydata.org/pandas-docs/stable/user_guide/indexing.html#returning-a-view-versus-a-copy\n",
      "  real_data[pd.isna(real_data)] = 0.0\n",
      "C:\\Users\\kurt_\\Anaconda3\\lib\\site-packages\\pandas\\core\\frame.py:3718: SettingWithCopyWarning: \n",
      "A value is trying to be set on a copy of a slice from a DataFrame\n",
      "\n",
      "See the caveats in the documentation: https://pandas.pydata.org/pandas-docs/stable/user_guide/indexing.html#returning-a-view-versus-a-copy\n",
      "  self._where(-key, value, inplace=True)\n",
      "C:\\Users\\kurt_\\Anaconda3\\lib\\site-packages\\sdmetrics\\column_pairs\\statistical\\kl_divergence.py:52: SettingWithCopyWarning: \n",
      "A value is trying to be set on a copy of a slice from a DataFrame.\n",
      "Try using .loc[row_indexer,col_indexer] = value instead\n",
      "\n",
      "See the caveats in the documentation: https://pandas.pydata.org/pandas-docs/stable/user_guide/indexing.html#returning-a-view-versus-a-copy\n",
      "  synthetic_data[pd.isna(synthetic_data)] = 0.0\n"
     ]
    },
    {
     "data": {
      "text/plain": [
       "0.5018154521026624"
      ]
     },
     "execution_count": 48,
     "metadata": {},
     "output_type": "execute_result"
    }
   ],
   "source": [
    "evaluate(new_df, df)"
   ]
  },
  {
   "cell_type": "code",
   "execution_count": 69,
   "metadata": {},
   "outputs": [
    {
     "data": {
      "text/plain": [
       "<AxesSubplot:xlabel='N', ylabel='p1'>"
      ]
     },
     "execution_count": 69,
     "metadata": {},
     "output_type": "execute_result"
    },
    {
     "data": {
      "image/png": "[encoded data removed]",
      "text/plain": [
       "<Figure size 432x288 with 1 Axes>"
      ]
     },
     "metadata": {
      "needs_background": "light"
     },
     "output_type": "display_data"
    }
   ],
   "source": [
    "df.plot('N','p1', kind='scatter')"
   ]
  },
  {
   "cell_type": "code",
   "execution_count": 70,
   "metadata": {},
   "outputs": [
    {
     "data": {
      "text/plain": [
       "<AxesSubplot:xlabel='N', ylabel='p1'>"
      ]
     },
     "execution_count": 70,
     "metadata": {},
     "output_type": "execute_result"
    },
    {
     "data": {
      "image/png": "[encoded data removed]",
      "text/plain": [
       "<Figure size 432x288 with 1 Axes>"
      ]
     },
     "metadata": {
      "needs_background": "light"
     },
     "output_type": "display_data"
    }
   ],
   "source": [
    "new_df.plot('N','p1', kind='scatter')"
   ]
  },
  {
   "cell_type": "code",
   "execution_count": 71,
   "metadata": {},
   "outputs": [
    {
     "data": {
      "text/plain": [
       "<AxesSubplot:xlabel='p1', ylabel='p2'>"
      ]
     },
     "execution_count": 71,
     "metadata": {},
     "output_type": "execute_result"
    },
    {
     "data": {
      "image/png": "[encoded data removed]",
      "text/plain": [
       "<Figure size 432x288 with 1 Axes>"
      ]
     },
     "metadata": {
      "needs_background": "light"
     },
     "output_type": "display_data"
    }
   ],
   "source": [
    "df.plot('p1','p2', kind='scatter')"
   ]
  },
  {
   "cell_type": "code",
   "execution_count": 72,
   "metadata": {},
   "outputs": [
    {
     "data": {
      "text/plain": [
       "<AxesSubplot:xlabel='p1', ylabel='p2'>"
      ]
     },
     "execution_count": 72,
     "metadata": {},
     "output_type": "execute_result"
    },
    {
     "data": {
      "image/png": "[encoded data removed]",
      "text/plain": [
       "<Figure size 432x288 with 1 Axes>"
      ]
     },
     "metadata": {
      "needs_background": "light"
     },
     "output_type": "display_data"
    }
   ],
   "source": [
    "new_df.plot('p1','p2', kind='scatter')"
   ]
  },
  {
   "cell_type": "code",
   "execution_count": 74,
   "metadata": {},
   "outputs": [
    {
     "data": {
      "text/html": [
       "<div>\n",
       "<style scoped>\n",
       "    .dataframe tbody tr th:only-of-type {\n",
       "        vertical-align: middle;\n",
       "    }\n",
       "\n",
       "    .dataframe tbody tr th {\n",
       "        vertical-align: top;\n",
       "    }\n",
       "\n",
       "    .dataframe thead th {\n",
       "        text-align: right;\n",
       "    }\n",
       "</style>\n",
       "<table border=\"1\" class=\"dataframe\">\n",
       "  <thead>\n",
       "    <tr style=\"text-align: right;\">\n",
       "      <th></th>\n",
       "      <th>N</th>\n",
       "      <th>xm</th>\n",
       "      <th>nr</th>\n",
       "      <th>ni</th>\n",
       "      <th>p1</th>\n",
       "      <th>p2</th>\n",
       "      <th>p3</th>\n",
       "    </tr>\n",
       "  </thead>\n",
       "  <tbody>\n",
       "    <tr>\n",
       "      <th>count</th>\n",
       "      <td>271.000000</td>\n",
       "      <td>271.000000</td>\n",
       "      <td>271.000000</td>\n",
       "      <td>271.000000</td>\n",
       "      <td>271.000000</td>\n",
       "      <td>271.000000</td>\n",
       "      <td>271.000000</td>\n",
       "    </tr>\n",
       "    <tr>\n",
       "      <th>mean</th>\n",
       "      <td>8.210332</td>\n",
       "      <td>0.589952</td>\n",
       "      <td>1.676790</td>\n",
       "      <td>0.053295</td>\n",
       "      <td>4.672113</td>\n",
       "      <td>-0.327213</td>\n",
       "      <td>-0.147662</td>\n",
       "    </tr>\n",
       "    <tr>\n",
       "      <th>std</th>\n",
       "      <td>1.027422</td>\n",
       "      <td>0.187774</td>\n",
       "      <td>0.249353</td>\n",
       "      <td>0.091053</td>\n",
       "      <td>5.376686</td>\n",
       "      <td>0.694810</td>\n",
       "      <td>0.207597</td>\n",
       "    </tr>\n",
       "    <tr>\n",
       "      <th>min</th>\n",
       "      <td>6.000000</td>\n",
       "      <td>0.168000</td>\n",
       "      <td>1.300000</td>\n",
       "      <td>0.001000</td>\n",
       "      <td>-1.057181</td>\n",
       "      <td>-3.172662</td>\n",
       "      <td>-0.961739</td>\n",
       "    </tr>\n",
       "    <tr>\n",
       "      <th>25%</th>\n",
       "      <td>8.000000</td>\n",
       "      <td>0.430000</td>\n",
       "      <td>1.450000</td>\n",
       "      <td>0.023000</td>\n",
       "      <td>1.108220</td>\n",
       "      <td>-0.289836</td>\n",
       "      <td>-0.217225</td>\n",
       "    </tr>\n",
       "    <tr>\n",
       "      <th>50%</th>\n",
       "      <td>8.000000</td>\n",
       "      <td>0.600000</td>\n",
       "      <td>1.680000</td>\n",
       "      <td>0.023000</td>\n",
       "      <td>2.619269</td>\n",
       "      <td>-0.033590</td>\n",
       "      <td>-0.049511</td>\n",
       "    </tr>\n",
       "    <tr>\n",
       "      <th>75%</th>\n",
       "      <td>9.000000</td>\n",
       "      <td>0.665000</td>\n",
       "      <td>1.880000</td>\n",
       "      <td>0.052500</td>\n",
       "      <td>6.356568</td>\n",
       "      <td>-0.000906</td>\n",
       "      <td>-0.005104</td>\n",
       "    </tr>\n",
       "    <tr>\n",
       "      <th>max</th>\n",
       "      <td>10.000000</td>\n",
       "      <td>0.960000</td>\n",
       "      <td>2.300000</td>\n",
       "      <td>1.138000</td>\n",
       "      <td>34.415730</td>\n",
       "      <td>0.348434</td>\n",
       "      <td>0.223650</td>\n",
       "    </tr>\n",
       "  </tbody>\n",
       "</table>\n",
       "</div>"
      ],
      "text/plain": [
       "                N          xm          nr          ni          p1          p2  \\\n",
       "count  271.000000  271.000000  271.000000  271.000000  271.000000  271.000000   \n",
       "mean     8.210332    0.589952    1.676790    0.053295    4.672113   -0.327213   \n",
       "std      1.027422    0.187774    0.249353    0.091053    5.376686    0.694810   \n",
       "min      6.000000    0.168000    1.300000    0.001000   -1.057181   -3.172662   \n",
       "25%      8.000000    0.430000    1.450000    0.023000    1.108220   -0.289836   \n",
       "50%      8.000000    0.600000    1.680000    0.023000    2.619269   -0.033590   \n",
       "75%      9.000000    0.665000    1.880000    0.052500    6.356568   -0.000906   \n",
       "max     10.000000    0.960000    2.300000    1.138000   34.415730    0.348434   \n",
       "\n",
       "               p3  \n",
       "count  271.000000  \n",
       "mean    -0.147662  \n",
       "std      0.207597  \n",
       "min     -0.961739  \n",
       "25%     -0.217225  \n",
       "50%     -0.049511  \n",
       "75%     -0.005104  \n",
       "max      0.223650  "
      ]
     },
     "execution_count": 74,
     "metadata": {},
     "output_type": "execute_result"
    }
   ],
   "source": [
    "df.describe()"
   ]
  },
  {
   "cell_type": "code",
   "execution_count": 75,
   "metadata": {},
   "outputs": [
    {
     "data": {
      "text/html": [
       "<div>\n",
       "<style scoped>\n",
       "    .dataframe tbody tr th:only-of-type {\n",
       "        vertical-align: middle;\n",
       "    }\n",
       "\n",
       "    .dataframe tbody tr th {\n",
       "        vertical-align: top;\n",
       "    }\n",
       "\n",
       "    .dataframe thead th {\n",
       "        text-align: right;\n",
       "    }\n",
       "</style>\n",
       "<table border=\"1\" class=\"dataframe\">\n",
       "  <thead>\n",
       "    <tr style=\"text-align: right;\">\n",
       "      <th></th>\n",
       "      <th>N</th>\n",
       "      <th>xm</th>\n",
       "      <th>nr</th>\n",
       "      <th>ni</th>\n",
       "      <th>p1</th>\n",
       "      <th>p2</th>\n",
       "      <th>p3</th>\n",
       "    </tr>\n",
       "  </thead>\n",
       "  <tbody>\n",
       "    <tr>\n",
       "      <th>count</th>\n",
       "      <td>200.000000</td>\n",
       "      <td>200.000000</td>\n",
       "      <td>200.000000</td>\n",
       "      <td>200.000000</td>\n",
       "      <td>200.000000</td>\n",
       "      <td>200.000000</td>\n",
       "      <td>200.000000</td>\n",
       "    </tr>\n",
       "    <tr>\n",
       "      <th>mean</th>\n",
       "      <td>8.220000</td>\n",
       "      <td>0.534800</td>\n",
       "      <td>1.651500</td>\n",
       "      <td>0.022540</td>\n",
       "      <td>3.272906</td>\n",
       "      <td>-0.121641</td>\n",
       "      <td>-0.115273</td>\n",
       "    </tr>\n",
       "    <tr>\n",
       "      <th>std</th>\n",
       "      <td>0.635309</td>\n",
       "      <td>0.176653</td>\n",
       "      <td>0.142729</td>\n",
       "      <td>0.011067</td>\n",
       "      <td>3.603027</td>\n",
       "      <td>0.388199</td>\n",
       "      <td>0.170920</td>\n",
       "    </tr>\n",
       "    <tr>\n",
       "      <th>min</th>\n",
       "      <td>6.000000</td>\n",
       "      <td>0.232000</td>\n",
       "      <td>1.300000</td>\n",
       "      <td>0.001000</td>\n",
       "      <td>-0.655654</td>\n",
       "      <td>-2.907514</td>\n",
       "      <td>-0.713956</td>\n",
       "    </tr>\n",
       "    <tr>\n",
       "      <th>25%</th>\n",
       "      <td>8.000000</td>\n",
       "      <td>0.396750</td>\n",
       "      <td>1.620000</td>\n",
       "      <td>0.013000</td>\n",
       "      <td>0.953886</td>\n",
       "      <td>-0.088311</td>\n",
       "      <td>-0.149842</td>\n",
       "    </tr>\n",
       "    <tr>\n",
       "      <th>50%</th>\n",
       "      <td>8.000000</td>\n",
       "      <td>0.480500</td>\n",
       "      <td>1.690000</td>\n",
       "      <td>0.023000</td>\n",
       "      <td>1.939283</td>\n",
       "      <td>-0.035538</td>\n",
       "      <td>-0.036080</td>\n",
       "    </tr>\n",
       "    <tr>\n",
       "      <th>75%</th>\n",
       "      <td>8.000000</td>\n",
       "      <td>0.630000</td>\n",
       "      <td>1.730000</td>\n",
       "      <td>0.030000</td>\n",
       "      <td>4.330345</td>\n",
       "      <td>0.001335</td>\n",
       "      <td>-0.016008</td>\n",
       "    </tr>\n",
       "    <tr>\n",
       "      <th>max</th>\n",
       "      <td>10.000000</td>\n",
       "      <td>0.960000</td>\n",
       "      <td>2.050000</td>\n",
       "      <td>0.047000</td>\n",
       "      <td>18.768982</td>\n",
       "      <td>0.106025</td>\n",
       "      <td>0.043514</td>\n",
       "    </tr>\n",
       "  </tbody>\n",
       "</table>\n",
       "</div>"
      ],
      "text/plain": [
       "                N          xm          nr          ni          p1          p2  \\\n",
       "count  200.000000  200.000000  200.000000  200.000000  200.000000  200.000000   \n",
       "mean     8.220000    0.534800    1.651500    0.022540    3.272906   -0.121641   \n",
       "std      0.635309    0.176653    0.142729    0.011067    3.603027    0.388199   \n",
       "min      6.000000    0.232000    1.300000    0.001000   -0.655654   -2.907514   \n",
       "25%      8.000000    0.396750    1.620000    0.013000    0.953886   -0.088311   \n",
       "50%      8.000000    0.480500    1.690000    0.023000    1.939283   -0.035538   \n",
       "75%      8.000000    0.630000    1.730000    0.030000    4.330345    0.001335   \n",
       "max     10.000000    0.960000    2.050000    0.047000   18.768982    0.106025   \n",
       "\n",
       "               p3  \n",
       "count  200.000000  \n",
       "mean    -0.115273  \n",
       "std      0.170920  \n",
       "min     -0.713956  \n",
       "25%     -0.149842  \n",
       "50%     -0.036080  \n",
       "75%     -0.016008  \n",
       "max      0.043514  "
      ]
     },
     "execution_count": 75,
     "metadata": {},
     "output_type": "execute_result"
    }
   ],
   "source": [
    "new_df.describe()"
   ]
  },
  {
   "cell_type": "markdown",
   "metadata": {},
   "source": [
    "Gausian Copula model"
   ]
  },
  {
   "cell_type": "code",
   "execution_count": 83,
   "metadata": {},
   "outputs": [
    {
     "name": "stderr",
     "output_type": "stream",
     "text": [
      "C:\\Users\\kurt_\\Anaconda3\\lib\\site-packages\\scipy\\stats\\_continuous_distns.py:5320: RuntimeWarning: divide by zero encountered in true_divide\n",
      "  return c**2 / (c**2 - n**2)\n",
      "C:\\Users\\kurt_\\Anaconda3\\lib\\site-packages\\scipy\\stats\\_distn_infrastructure.py:2606: RuntimeWarning: invalid value encountered in double_scalars\n",
      "  Lhat = muhat - Shat*mu\n",
      "C:\\Users\\kurt_\\Anaconda3\\lib\\site-packages\\scipy\\stats\\_continuous_distns.py:639: RuntimeWarning: invalid value encountered in sqrt\n",
      "  sk = 2*(b-a)*np.sqrt(a + b + 1) / (a + b + 2) / np.sqrt(a*b)\n",
      "C:\\Users\\kurt_\\Anaconda3\\lib\\site-packages\\scipy\\optimize\\minpack.py:175: RuntimeWarning: The iteration is not making good progress, as measured by the \n",
      "  improvement from the last ten iterations.\n",
      "  warnings.warn(msg, RuntimeWarning)\n",
      "C:\\Users\\kurt_\\Anaconda3\\lib\\site-packages\\scipy\\stats\\_continuous_distns.py:5311: RuntimeWarning: divide by zero encountered in power\n",
      "  return cd2*x**(c-1)\n",
      "C:\\Users\\kurt_\\Anaconda3\\lib\\site-packages\\scipy\\stats\\_continuous_distns.py:615: RuntimeWarning: divide by zero encountered in _beta_cdf\n",
      "  return _boost._beta_cdf(x, a, b)\n",
      "C:\\Users\\kurt_\\Anaconda3\\lib\\site-packages\\scipy\\optimize\\optimize.py:283: RuntimeWarning: Values in x were outside bounds during a minimize step, clipping to bounds\n",
      "  \"minimize step, clipping to bounds\", RuntimeWarning)\n"
     ]
    }
   ],
   "source": [
    "model = GaussianCopula()\n",
    "model.fit(df)"
   ]
  },
  {
   "cell_type": "code",
   "execution_count": 84,
   "metadata": {},
   "outputs": [],
   "source": [
    " new_df = model.sample(num_rows=200)"
   ]
  },
  {
   "cell_type": "code",
   "execution_count": 85,
   "metadata": {},
   "outputs": [
    {
     "data": {
      "text/plain": [
       "<AxesSubplot:>"
      ]
     },
     "execution_count": 85,
     "metadata": {},
     "output_type": "execute_result"
    },
    {
     "data": {
      "image/png": "[encoded data removed]",
      "text/plain": [
       "<Figure size 432x288 with 2 Axes>"
      ]
     },
     "metadata": {
      "needs_background": "light"
     },
     "output_type": "display_data"
    }
   ],
   "source": [
    "sns.heatmap(df.corr())"
   ]
  },
  {
   "cell_type": "code",
   "execution_count": 86,
   "metadata": {},
   "outputs": [
    {
     "data": {
      "text/plain": [
       "<AxesSubplot:>"
      ]
     },
     "execution_count": 86,
     "metadata": {},
     "output_type": "execute_result"
    },
    {
     "data": {
      "image/png": "[encoded data removed]",
      "text/plain": [
       "<Figure size 432x288 with 2 Axes>"
      ]
     },
     "metadata": {
      "needs_background": "light"
     },
     "output_type": "display_data"
    }
   ],
   "source": [
    "sns.heatmap(new_df.corr())"
   ]
  },
  {
   "cell_type": "markdown",
   "metadata": {},
   "source": [
    "## Synthethic data evaluation"
   ]
  },
  {
   "cell_type": "code",
   "execution_count": 88,
   "metadata": {},
   "outputs": [
    {
     "name": "stderr",
     "output_type": "stream",
     "text": [
      "C:\\Users\\kurt_\\Anaconda3\\lib\\site-packages\\sdmetrics\\column_pairs\\statistical\\kl_divergence.py:51: SettingWithCopyWarning: \n",
      "A value is trying to be set on a copy of a slice from a DataFrame.\n",
      "Try using .loc[row_indexer,col_indexer] = value instead\n",
      "\n",
      "See the caveats in the documentation: https://pandas.pydata.org/pandas-docs/stable/user_guide/indexing.html#returning-a-view-versus-a-copy\n",
      "  real_data[pd.isna(real_data)] = 0.0\n",
      "C:\\Users\\kurt_\\Anaconda3\\lib\\site-packages\\pandas\\core\\frame.py:3718: SettingWithCopyWarning: \n",
      "A value is trying to be set on a copy of a slice from a DataFrame\n",
      "\n",
      "See the caveats in the documentation: https://pandas.pydata.org/pandas-docs/stable/user_guide/indexing.html#returning-a-view-versus-a-copy\n",
      "  self._where(-key, value, inplace=True)\n",
      "C:\\Users\\kurt_\\Anaconda3\\lib\\site-packages\\sdmetrics\\column_pairs\\statistical\\kl_divergence.py:52: SettingWithCopyWarning: \n",
      "A value is trying to be set on a copy of a slice from a DataFrame.\n",
      "Try using .loc[row_indexer,col_indexer] = value instead\n",
      "\n",
      "See the caveats in the documentation: https://pandas.pydata.org/pandas-docs/stable/user_guide/indexing.html#returning-a-view-versus-a-copy\n",
      "  synthetic_data[pd.isna(synthetic_data)] = 0.0\n"
     ]
    },
    {
     "data": {
      "text/plain": [
       "0.49382334295876856"
      ]
     },
     "execution_count": 88,
     "metadata": {},
     "output_type": "execute_result"
    }
   ],
   "source": [
    "evaluate(new_df, df)"
   ]
  },
  {
   "cell_type": "code",
   "execution_count": null,
   "metadata": {},
   "outputs": [],
   "source": []
  }
 ],
 "metadata": {
  "kernelspec": {
   "display_name": "aeroscat",
   "language": "python",
   "name": "python3"
  },
  "language_info": {
   "codemirror_mode": {
    "name": "ipython",
    "version": 3
   },
   "file_extension": ".py",
   "mimetype": "text/x-python",
   "name": "python",
   "nbconvert_exporter": "python",
   "pygments_lexer": "ipython3",
   "version": "3.9.13"
  },
  "vscode": {
   "interpreter": {
    "hash": "d17d96cdacf2d4432faa9daa25173f2a0f6f65bde127187763130d073bb8b82f"
   }
  }
 },
 "nbformat": 4,
 "nbformat_minor": 4
}
