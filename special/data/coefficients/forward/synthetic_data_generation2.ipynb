{
 "cells": [
  {
   "cell_type": "code",
   "execution_count": 1,
   "metadata": {},
   "outputs": [],
   "source": [
    "import pandas as pd\n",
    "import numpy as np\n",
    "\n",
    "import matplotlib.pyplot as plt\n",
    "import seaborn as sns\n",
    "\n",
    "from sdv.tabular import CopulaGAN\n",
    "from sdv.tabular import TVAE\n",
    "from sdv.tabular import GaussianCopula\n",
    "from sdv.tabular import CTGAN\n",
    "from sdv.evaluation import evaluate\n",
    "\n",
    "from sklearn.preprocessing import PowerTransformer\n",
    "from sklearn.model_selection import train_test_split\n",
    "\n",
    "# Function for reshaping data after power transformation\n",
    "def reshape_after_pt(df_pt, df): \n",
    "    df_pt = pd.DataFrame(df_pt, columns=\n",
    "                             df.columns)\n",
    "    df_pt.index = df.index\n",
    "    return df_pt"
   ]
  },
  {
   "cell_type": "code",
   "execution_count": 2,
   "metadata": {},
   "outputs": [
    {
     "data": {
      "text/html": [
       "<div>\n",
       "<style scoped>\n",
       "    .dataframe tbody tr th:only-of-type {\n",
       "        vertical-align: middle;\n",
       "    }\n",
       "\n",
       "    .dataframe tbody tr th {\n",
       "        vertical-align: top;\n",
       "    }\n",
       "\n",
       "    .dataframe thead th {\n",
       "        text-align: right;\n",
       "    }\n",
       "</style>\n",
       "<table border=\"1\" class=\"dataframe\">\n",
       "  <thead>\n",
       "    <tr style=\"text-align: right;\">\n",
       "      <th></th>\n",
       "      <th>N</th>\n",
       "      <th>xm</th>\n",
       "      <th>nr</th>\n",
       "      <th>ni</th>\n",
       "      <th>p1</th>\n",
       "      <th>p2</th>\n",
       "      <th>p3</th>\n",
       "    </tr>\n",
       "  </thead>\n",
       "  <tbody>\n",
       "    <tr>\n",
       "      <th>135</th>\n",
       "      <td>8</td>\n",
       "      <td>0.640</td>\n",
       "      <td>1.80</td>\n",
       "      <td>0.023</td>\n",
       "      <td>2.350804</td>\n",
       "      <td>-0.026391</td>\n",
       "      <td>-0.032737</td>\n",
       "    </tr>\n",
       "    <tr>\n",
       "      <th>104</th>\n",
       "      <td>8</td>\n",
       "      <td>0.530</td>\n",
       "      <td>1.30</td>\n",
       "      <td>0.023</td>\n",
       "      <td>1.085613</td>\n",
       "      <td>-0.006777</td>\n",
       "      <td>-0.008850</td>\n",
       "    </tr>\n",
       "    <tr>\n",
       "      <th>13</th>\n",
       "      <td>10</td>\n",
       "      <td>0.336</td>\n",
       "      <td>2.00</td>\n",
       "      <td>0.090</td>\n",
       "      <td>3.198936</td>\n",
       "      <td>-0.102964</td>\n",
       "      <td>-0.119347</td>\n",
       "    </tr>\n",
       "    <tr>\n",
       "      <th>266</th>\n",
       "      <td>6</td>\n",
       "      <td>0.730</td>\n",
       "      <td>1.68</td>\n",
       "      <td>0.023</td>\n",
       "      <td>1.036369</td>\n",
       "      <td>-0.001042</td>\n",
       "      <td>-0.006648</td>\n",
       "    </tr>\n",
       "    <tr>\n",
       "      <th>47</th>\n",
       "      <td>7</td>\n",
       "      <td>0.640</td>\n",
       "      <td>1.30</td>\n",
       "      <td>0.023</td>\n",
       "      <td>1.027853</td>\n",
       "      <td>-0.000807</td>\n",
       "      <td>-0.003855</td>\n",
       "    </tr>\n",
       "  </tbody>\n",
       "</table>\n",
       "</div>"
      ],
      "text/plain": [
       "      N     xm    nr     ni        p1        p2        p3\n",
       "135   8  0.640  1.80  0.023  2.350804 -0.026391 -0.032737\n",
       "104   8  0.530  1.30  0.023  1.085613 -0.006777 -0.008850\n",
       "13   10  0.336  2.00  0.090  3.198936 -0.102964 -0.119347\n",
       "266   6  0.730  1.68  0.023  1.036369 -0.001042 -0.006648\n",
       "47    7  0.640  1.30  0.023  1.027853 -0.000807 -0.003855"
      ]
     },
     "execution_count": 2,
     "metadata": {},
     "output_type": "execute_result"
    }
   ],
   "source": [
    "df = pd.read_csv('allregimes.csv')\n",
    "df = df[['N','xm','nr','ni','p1','p2','p3']]\n",
    "df.loc[:, \"N\"] = np.log2(df['N']).apply(int)\n",
    "df.sample(5)"
   ]
  },
  {
   "cell_type": "code",
   "execution_count": 3,
   "metadata": {},
   "outputs": [],
   "source": [
    "features = ['N','xm','nr','ni']\n",
    "response = ['p1','p2','p3']\n",
    "X = df[features]\n",
    "y = df[response]\n",
    "\n",
    "# train/test spliting\n",
    "# Call train_test_split on X, y. Make the test_size = 0.2\n",
    "X_train, X_test, y_train, y_test = train_test_split(X, y, \n",
    "                                                    test_size=0.2)"
   ]
  },
  {
   "cell_type": "code",
   "execution_count": 4,
   "metadata": {},
   "outputs": [],
   "source": [
    "import warnings\n",
    "warnings.filterwarnings(\"ignore\")"
   ]
  },
  {
   "cell_type": "code",
   "execution_count": 5,
   "metadata": {},
   "outputs": [],
   "source": [
    "df_train = X_train.join(y_train)"
   ]
  },
  {
   "cell_type": "code",
   "execution_count": 6,
   "metadata": {},
   "outputs": [],
   "source": [
    "import os\n",
    "os.chdir('C:\\\\Users\\\\kurt_\\\\Google Drive\\\\dell_github\\\\T-Matrix-Titan\\\\')"
   ]
  },
  {
   "cell_type": "code",
   "execution_count": 12,
   "metadata": {},
   "outputs": [
    {
     "name": "stdout",
     "output_type": "stream",
     "text": [
      "500 40 0.7832883597883598\n",
      "500 390 0.7847658730158731\n",
      "550 40 0.8096494708994708\n",
      "600 40 0.8183399470899472\n",
      "850 40 0.8315621693121692\n",
      "1050 90 0.8338637566137566\n"
     ]
    }
   ],
   "source": [
    "test=[]\n",
    "best_score = 0.7\n",
    "for epochs in np.arange(500, 1600, 50):\n",
    "        for batch_size in range(40,600,50):\n",
    "                model = CTGAN(\n",
    "                        epochs=epochs,\n",
    "                        batch_size=batch_size,\n",
    "                        field_transformers = {'N':'integer'}\n",
    "                        )\n",
    "                model.fit(df_train)\n",
    "                # let's do a few cross validation for sample evaluation score\n",
    "                scores = []\n",
    "                for i in range(20):\n",
    "                        new_X = model.sample(num_rows=200)\n",
    "                        scores.append(evaluate(new_X, df_train,metrics=[ 'KSTest']))\n",
    "                score = np.array(scores).mean()\n",
    "\n",
    "                if score > best_score:\n",
    "                        best_score = score\n",
    "                        best_model = model\n",
    "                        test.append((epochs, batch_size, score))\n",
    "                        print(epochs,batch_size,score)"
   ]
  },
  {
   "cell_type": "code",
   "execution_count": 23,
   "metadata": {},
   "outputs": [],
   "source": [
    "# test_df = pd.DataFrame(test, columns=['epochs','batch_size','score'])\n",
    "# test_df.sort_values(by='score').tail(55)"
   ]
  },
  {
   "cell_type": "code",
   "execution_count": 16,
   "metadata": {},
   "outputs": [
    {
     "data": {
      "text/plain": [
       "0.618071572482428"
      ]
     },
     "execution_count": 16,
     "metadata": {},
     "output_type": "execute_result"
    }
   ],
   "source": [
    "model = CopulaGAN(\n",
    "        epochs=1730,\n",
    "        batch_size=320,\n",
    "        generator_dim=(256, 256, 256),\n",
    "        discriminator_dim=(256, 256, 256),\n",
    "        field_transformers = {'N':'integer'}\n",
    "        )\n",
    "model.fit(X)\n",
    "\n",
    "new_X = model.sample(num_rows=200)\n",
    "evaluate(new_X, X)"
   ]
  },
  {
   "cell_type": "code",
   "execution_count": 22,
   "metadata": {},
   "outputs": [
    {
     "data": {
      "text/plain": [
       "0.6297421456751627"
      ]
     },
     "execution_count": 22,
     "metadata": {},
     "output_type": "execute_result"
    }
   ],
   "source": [
    "new_X = model.sample(num_rows=400)\n",
    "evaluate(new_X, X)"
   ]
  },
  {
   "cell_type": "code",
   "execution_count": 27,
   "metadata": {},
   "outputs": [],
   "source": [
    "old_test = [(1480, 260, 0.734149255511467),\n",
    "    (1500, 120, 0.7343316449601694)]"
   ]
  },
  {
   "cell_type": "code",
   "execution_count": 29,
   "metadata": {},
   "outputs": [],
   "source": [
    "\n",
    "test=[]\n",
    "best_score = 0.7\n",
    "for ep_bs in old_test:\n",
    "    epochs = ep_bs[0]\n",
    "    batch_size = ep_bs[1]\n",
    "    for l2scale in (2e-5,3e-5):\n",
    "        model = TVAE(\n",
    "                epochs=epochs,\n",
    "                batch_size=batch_size,\n",
    "                field_transformers = {'N':'integer'}\n",
    "                )\n",
    "        model.fit(df_train)\n",
    "        new_X = model.sample(num_rows=200)\n",
    "        # let's do a few cross validation for sample evaluation score\n",
    "        scores = []\n",
    "        for i in range(6):\n",
    "                scores.append(evaluate(new_X, df_train))\n",
    "        score = np.array(scores).mean()\n",
    "\n",
    "        if score > best_score:\n",
    "                best_score = score\n",
    "                best_model = model\n",
    "                test.append((epochs, batch_size, l2scale, score))\n",
    "                print(epochs,batch_size,l2scale, score)"
   ]
  }
 ],
 "metadata": {
  "interpreter": {
   "hash": "03e7d9951a05158ee89ed484d7d07ddaec2c8abe0ca368e179a11d743611438e"
  },
  "kernelspec": {
   "display_name": "Python 3.7.10 ('base')",
   "language": "python",
   "name": "python3"
  },
  "language_info": {
   "codemirror_mode": {
    "name": "ipython",
    "version": 3
   },
   "file_extension": ".py",
   "mimetype": "text/x-python",
   "name": "python",
   "nbconvert_exporter": "python",
   "pygments_lexer": "ipython3",
   "version": "3.7.10"
  },
  "orig_nbformat": 4
 },
 "nbformat": 4,
 "nbformat_minor": 2
}
