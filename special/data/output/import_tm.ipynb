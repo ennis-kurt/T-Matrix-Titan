{
 "cells": [
  {
   "cell_type": "code",
   "execution_count": 1,
   "metadata": {},
   "outputs": [],
   "source": [
    "import numpy as np\n",
    "import pandas as pd\n",
    "import linecache as gl\n",
    "import glob\n",
    "import os\n",
    "import platform\n",
    "op_sys = platform.system()\n",
    "if op_sys == 'Windows':\n",
    "    dtdir = 'C:\\\\Users\\\\kurt_\\\\Google Drive\\\\dell_github\\\\T-Matrix-Titan\\\\special\\\\data\\\\output\\\\'\n",
    "    _sl = '\\\\'\n",
    "elif op_sys == 'Linux':\n",
    "    dtdir = '/home/cihat/Dropbox/code/special/data/'\n",
    "    _sl = '/'\n",
    "os.chdir(dtdir)\n"
   ]
  },
  {
   "cell_type": "code",
   "execution_count": 2,
   "metadata": {},
   "outputs": [
    {
     "name": "stdout",
     "output_type": "stream",
     "text": [
      "<class 'pandas.core.frame.DataFrame'>\n",
      "RangeIndex: 1031 entries, 0 to 1030\n",
      "Data columns (total 4 columns):\n",
      " #   Column  Non-Null Count  Dtype \n",
      "---  ------  --------------  ----- \n",
      " 0   N       1031 non-null   object\n",
      " 1   xm      1031 non-null   object\n",
      " 2   nr      1031 non-null   object\n",
      " 3   ni      1031 non-null   object\n",
      "dtypes: object(4)\n",
      "memory usage: 32.3+ KB\n"
     ]
    }
   ],
   "source": [
    "tmf_list = pd.read_csv(dtdir+'output_list.csv',dtype=str)\n",
    "tmf_list.info()"
   ]
  },
  {
   "cell_type": "code",
   "execution_count": 3,
   "metadata": {},
   "outputs": [
    {
     "name": "stdout",
     "output_type": "stream",
     "text": [
      "There are 25 output files for the run 1024_x03360_130_00010\n",
      "There are 25 output files for the run 1024_x03360_130_00040\n",
      "There are 25 output files for the run 1024_x03360_130_00230\n",
      "There are 25 output files for the run 1024_x03360_130_00450\n",
      "There are 25 output files for the run 1024_x03360_130_00900\n",
      "There are 25 output files for the run 1024_x03360_166_00010\n",
      "There are 25 output files for the run 1024_x03360_166_00020\n",
      "There are 25 output files for the run 1024_x03360_166_00020\n",
      "There are 25 output files for the run 1024_x03360_171_00230\n",
      "There are 25 output files for the run 1024_x03360_171_00900\n",
      "There are 25 output files for the run 1024_x03360_200_00040\n",
      "1458\n",
      "There are 25 output files for the run 1024_x03360_200_00230\n",
      "There are 25 output files for the run 1024_x03360_200_00450\n",
      "There are 25 output files for the run 1024_x03360_200_00900\n",
      "There are 25 output files for the run 1024_x04300_130_00230\n",
      "There are 25 output files for the run 1024_x04300_130_00900\n",
      "There are 25 output files for the run 1024_x04300_200_00230\n",
      "There are 25 output files for the run 1024_x04300_200_00900\n",
      "There are 25 output files for the run 1024_x05300_130_00230\n",
      "There are 21 output files for the run 1024_x05300_130_00900\n",
      "1458\n",
      "1458\n",
      "1458\n",
      "There are 25 output files for the run 1024_x05300_200_00230\n",
      "There are 25 output files for the run 1024_x05300_200_00900\n",
      "There are 24 output files for the run 1024_x06400_130_00230\n",
      "1458\n",
      "1458\n",
      "There are 25 output files for the run 1024_x06400_130_00450\n",
      "There are 16 output files for the run 1024_x06400_130_00900\n",
      "1458\n",
      "1458\n",
      "1458\n",
      "1458\n",
      "1458\n",
      "There are 25 output files for the run 1024_x06400_171_00230\n",
      "There are 25 output files for the run 1024_x06400_171_00450\n",
      "There are 25 output files for the run 1024_x06400_171_00900\n",
      "1458\n",
      "There are 22 output files for the run 1024_x06400_200_00230\n",
      "1459\n",
      "1458\n",
      "1459\n",
      "1459\n",
      "There are 24 output files for the run 1024_x06400_200_00450\n",
      "1459\n",
      "1459\n",
      "1459\n",
      "1459\n",
      "1459\n",
      "1459\n",
      "1459\n",
      "1459\n",
      "1459\n",
      "There are 20 output files for the run 1024_x06400_200_00900\n",
      "1459\n",
      "1459\n",
      "1459\n",
      "1459\n",
      "1458\n",
      "1459\n",
      "1459\n",
      "There are 10 output files for the run 128_x04000_150_04030\n",
      "1458\n",
      "1458\n",
      "1458\n",
      "1458\n",
      "1458\n",
      "1458\n",
      "1458\n",
      "1458\n",
      "1458\n",
      "1458\n"
     ]
    },
    {
     "ename": "ValueError",
     "evalue": "No objects to concatenate",
     "output_type": "error",
     "traceback": [
      "\u001b[1;31m---------------------------------------------------------------------------\u001b[0m",
      "\u001b[1;31mValueError\u001b[0m                                Traceback (most recent call last)",
      "\u001b[1;32m~\\AppData\\Local\\Temp/ipykernel_22092/2168354510.py\u001b[0m in \u001b[0;36m<module>\u001b[1;34m\u001b[0m\n\u001b[0;32m    109\u001b[0m \u001b[1;33m\u001b[0m\u001b[0m\n\u001b[0;32m    110\u001b[0m     \u001b[1;31m# Let's convert the df_concat to a pandas dataframe\u001b[0m\u001b[1;33m\u001b[0m\u001b[1;33m\u001b[0m\u001b[1;33m\u001b[0m\u001b[0m\n\u001b[1;32m--> 111\u001b[1;33m     \u001b[0mdf_mx_concat\u001b[0m \u001b[1;33m=\u001b[0m \u001b[0mpd\u001b[0m\u001b[1;33m.\u001b[0m\u001b[0mconcat\u001b[0m\u001b[1;33m(\u001b[0m\u001b[0mdf_mx_concat\u001b[0m\u001b[1;33m)\u001b[0m\u001b[1;33m\u001b[0m\u001b[1;33m\u001b[0m\u001b[0m\n\u001b[0m\u001b[0;32m    112\u001b[0m     \u001b[0mdf_eff_concat\u001b[0m \u001b[1;33m=\u001b[0m \u001b[0mpd\u001b[0m\u001b[1;33m.\u001b[0m\u001b[0mconcat\u001b[0m\u001b[1;33m(\u001b[0m\u001b[0mdf_eff_concat\u001b[0m\u001b[1;33m)\u001b[0m\u001b[1;33m\u001b[0m\u001b[1;33m\u001b[0m\u001b[0m\n\u001b[0;32m    113\u001b[0m \u001b[1;33m\u001b[0m\u001b[0m\n",
      "\u001b[1;32m~\\Anaconda3\\lib\\site-packages\\pandas\\util\\_decorators.py\u001b[0m in \u001b[0;36mwrapper\u001b[1;34m(*args, **kwargs)\u001b[0m\n\u001b[0;32m    309\u001b[0m                     \u001b[0mstacklevel\u001b[0m\u001b[1;33m=\u001b[0m\u001b[0mstacklevel\u001b[0m\u001b[1;33m,\u001b[0m\u001b[1;33m\u001b[0m\u001b[1;33m\u001b[0m\u001b[0m\n\u001b[0;32m    310\u001b[0m                 )\n\u001b[1;32m--> 311\u001b[1;33m             \u001b[1;32mreturn\u001b[0m \u001b[0mfunc\u001b[0m\u001b[1;33m(\u001b[0m\u001b[1;33m*\u001b[0m\u001b[0margs\u001b[0m\u001b[1;33m,\u001b[0m \u001b[1;33m**\u001b[0m\u001b[0mkwargs\u001b[0m\u001b[1;33m)\u001b[0m\u001b[1;33m\u001b[0m\u001b[1;33m\u001b[0m\u001b[0m\n\u001b[0m\u001b[0;32m    312\u001b[0m \u001b[1;33m\u001b[0m\u001b[0m\n\u001b[0;32m    313\u001b[0m         \u001b[1;32mreturn\u001b[0m \u001b[0mwrapper\u001b[0m\u001b[1;33m\u001b[0m\u001b[1;33m\u001b[0m\u001b[0m\n",
      "\u001b[1;32m~\\Anaconda3\\lib\\site-packages\\pandas\\core\\reshape\\concat.py\u001b[0m in \u001b[0;36mconcat\u001b[1;34m(objs, axis, join, ignore_index, keys, levels, names, verify_integrity, sort, copy)\u001b[0m\n\u001b[0;32m    302\u001b[0m         \u001b[0mverify_integrity\u001b[0m\u001b[1;33m=\u001b[0m\u001b[0mverify_integrity\u001b[0m\u001b[1;33m,\u001b[0m\u001b[1;33m\u001b[0m\u001b[1;33m\u001b[0m\u001b[0m\n\u001b[0;32m    303\u001b[0m         \u001b[0mcopy\u001b[0m\u001b[1;33m=\u001b[0m\u001b[0mcopy\u001b[0m\u001b[1;33m,\u001b[0m\u001b[1;33m\u001b[0m\u001b[1;33m\u001b[0m\u001b[0m\n\u001b[1;32m--> 304\u001b[1;33m         \u001b[0msort\u001b[0m\u001b[1;33m=\u001b[0m\u001b[0msort\u001b[0m\u001b[1;33m,\u001b[0m\u001b[1;33m\u001b[0m\u001b[1;33m\u001b[0m\u001b[0m\n\u001b[0m\u001b[0;32m    305\u001b[0m     )\n\u001b[0;32m    306\u001b[0m \u001b[1;33m\u001b[0m\u001b[0m\n",
      "\u001b[1;32m~\\Anaconda3\\lib\\site-packages\\pandas\\core\\reshape\\concat.py\u001b[0m in \u001b[0;36m__init__\u001b[1;34m(self, objs, axis, join, keys, levels, names, ignore_index, verify_integrity, copy, sort)\u001b[0m\n\u001b[0;32m    349\u001b[0m \u001b[1;33m\u001b[0m\u001b[0m\n\u001b[0;32m    350\u001b[0m         \u001b[1;32mif\u001b[0m \u001b[0mlen\u001b[0m\u001b[1;33m(\u001b[0m\u001b[0mobjs\u001b[0m\u001b[1;33m)\u001b[0m \u001b[1;33m==\u001b[0m \u001b[1;36m0\u001b[0m\u001b[1;33m:\u001b[0m\u001b[1;33m\u001b[0m\u001b[1;33m\u001b[0m\u001b[0m\n\u001b[1;32m--> 351\u001b[1;33m             \u001b[1;32mraise\u001b[0m \u001b[0mValueError\u001b[0m\u001b[1;33m(\u001b[0m\u001b[1;34m\"No objects to concatenate\"\u001b[0m\u001b[1;33m)\u001b[0m\u001b[1;33m\u001b[0m\u001b[1;33m\u001b[0m\u001b[0m\n\u001b[0m\u001b[0;32m    352\u001b[0m \u001b[1;33m\u001b[0m\u001b[0m\n\u001b[0;32m    353\u001b[0m         \u001b[1;32mif\u001b[0m \u001b[0mkeys\u001b[0m \u001b[1;32mis\u001b[0m \u001b[1;32mNone\u001b[0m\u001b[1;33m:\u001b[0m\u001b[1;33m\u001b[0m\u001b[1;33m\u001b[0m\u001b[0m\n",
      "\u001b[1;31mValueError\u001b[0m: No objects to concatenate"
     ]
    }
   ],
   "source": [
    "_log = []\n",
    "tm_all_mx = []\n",
    "tm_all_eff = []\n",
    "count = 0\n",
    "def convert_str(i, _var):\n",
    "    var = tmf_list.iloc[i][_var]\n",
    "    var = \"\".join([x for x in str(var) if x != \".\"])\n",
    "    return var\n",
    "for i in tmf_list.index:\n",
    "    N = convert_str(i, \"N\")\n",
    "    xm = \"x\"+convert_str(i, \"xm\")\n",
    "    nr = convert_str(i, \"nr\")\n",
    "    ni = convert_str(i, \"ni\")\n",
    "\n",
    "    # We need to skip the loop if there is no data for this ni.\n",
    "    try:\n",
    "        tmatrix_files = glob.glob(\n",
    "            dtdir+_sl.join([N,xm,nr,ni,''])+\"mt*.dat\")\n",
    "        tmatrix_files[0]\n",
    "    except IndexError:\n",
    "        _log.append(['There is no data for this set:  {}_{}_{}_'\n",
    "                        .format(N, xm, nr) + ni])\n",
    "        continue\n",
    "    # Skipping runs if there are not atleast 10 outputs available.\n",
    "\n",
    "    if len(tmatrix_files) < 5 and len(tmatrix_files) > 0:\n",
    "\n",
    "        print('There are {} outputs for the run {}_{}_{}_'\n",
    "                .format(len(tmatrix_files), N, xm, nr) + ni)\n",
    "        print('For the sake of accuracy this run will not be included ')\n",
    "        continue\n",
    "    elif len(tmatrix_files) == 0:\n",
    "        print('There is NO outputs for the run {}_{}_{}_'\n",
    "                .format(N, xm, nr) + ni)\n",
    "        continue\n",
    "    print('There are {} output files for the run {}_{}_{}_'\n",
    "                    .format(len(tmatrix_files), N, xm, nr) + ni)\n",
    "    i = 0\n",
    "    df_mx_concat = []\n",
    "    df_eff_concat = []\n",
    "    for tmf in tmatrix_files:\n",
    "        ## Skip Incomplete output files ##\n",
    "        file_size = os.path.getsize(tmf)\n",
    "\n",
    "        if file_size < 2000:\n",
    "            print(file_size)\n",
    "            continue\n",
    "\n",
    "        i += 1\n",
    "        # Let's read the mstm output files and save the data into\n",
    "        # a pd.DataFrame\n",
    "        # Outside this loop, I will calculate the ensemble average.\n",
    "\n",
    "        # Let's first collect the efficiencies and asymmetry parm.\n",
    "\n",
    "        q = gl.getline(tmf, 51)\n",
    "        q = q.split()\n",
    "        qext = [float(q[0])]\n",
    "        qabs = [float(q[1])]\n",
    "        qsca = [float(q[2])]\n",
    "        g = [float(q[3])]\n",
    "        # A few runs seems like have wrong qe and/or qa values.\n",
    "        # I did not investigate the scattering matrix but I will\n",
    "        # completely skip all these runs.\n",
    "\n",
    "        if (qsca[0] < 1e3 and qsca[0] > -1e3) and (qabs[0] < 1e3 and qabs[0] > -1e3)\\\n",
    "                and (g[0] >= 0 and g[0] <= 1):\n",
    "            eff = {'qa': qabs, 'qs': qsca, 'qe': qext, 'g': g}\n",
    "            dt_eff = pd.DataFrame(eff)\n",
    "            dt_eff = dt_eff.apply(pd.to_numeric)\n",
    "            df_eff_concat.append(dt_eff)\n",
    "\n",
    "            data = []\n",
    "            for line in range(54, 235):\n",
    "                a = gl.getline(tmf, line)\n",
    "                columns = a.split()\n",
    "                rw = {}\n",
    "                rw['theta'] = columns[0]\n",
    "                rw['P11'] = columns[1]\n",
    "                rw['P12'] = columns[2]\n",
    "                rw['P13'] = columns[3]\n",
    "                rw['P14'] = columns[4]\n",
    "                rw['P22'] = columns[5]\n",
    "                rw['P23'] = columns[6]\n",
    "                rw['P24'] = columns[7]\n",
    "                rw['P33'] = columns[8]\n",
    "                rw['P34'] = columns[9]\n",
    "                rw['P44'] = columns[10]\n",
    "                data.append(rw)\n",
    "\n",
    "            # Dataframe for each run with a name, e.g., tm1024_x3360_171_009_1\n",
    "            dt_mx = pd.DataFrame(data)\n",
    "\n",
    "            # Let's convert the string values to numeric all at once\n",
    "            dt_mx = dt_mx.apply(pd.to_numeric)\n",
    "\n",
    "            # Now lets collect all the dataframes to get an average at the end.\n",
    "\n",
    "            df_mx_concat.append(dt_mx)\n",
    "        else:\n",
    "            continue\n",
    "\n",
    "    # Now let's average the all runs for the same input parameters\n",
    "    # df_concat stack all the datframes vertically.\n",
    "    # indexes, 1 to 180, repeats for each output\n",
    "    # To calculate the mean we just need to group the\n",
    "    # df_concat by the index.\n",
    "    # then we can simply take the mean.\n",
    "\n",
    "    # Let's convert the df_concat to a pandas dataframe\n",
    "    df_mx_concat = pd.concat(df_mx_concat)\n",
    "    df_eff_concat = pd.concat(df_eff_concat)\n",
    "\n",
    "    # Let's take the average of all runs for each set\n",
    "\n",
    "    # Averaging Scattering matrices\n",
    "    group_by_index_mx = df_mx_concat.groupby(df_mx_concat.index)\n",
    "    tm_run_mx = 'tm{}_{}_{}_{}_mx'.format(N, xm, nr, ni)\n",
    "    vars()[tm_run_mx] = group_by_index_mx.mean()\n",
    "    # For eg. 1024_x6398_13_009_mx\n",
    "    tm_all_mx.append(vars()[tm_run_mx])\n",
    "\n",
    "    # Averaging Efficiencies and asym. par.\n",
    "    group_by_index_eff = df_eff_concat.groupby(df_eff_concat.index)\n",
    "    tm_run_eff = 'tm{}_{}_{}_{}_eff'.format(N, xm, nr, ni)\n",
    "    vars()[tm_run_eff] = group_by_index_eff.mean()\n",
    "    tm_all_eff.append(vars()[tm_run_eff])\n",
    "    count+=1\n"
   ]
  },
  {
   "cell_type": "code",
   "execution_count": 7,
   "metadata": {},
   "outputs": [
    {
     "data": {
      "text/plain": [
       "[]"
      ]
     },
     "execution_count": 7,
     "metadata": {},
     "output_type": "execute_result"
    }
   ],
   "source": [
    "df_mx_concat "
   ]
  },
  {
   "cell_type": "code",
   "execution_count": 58,
   "metadata": {},
   "outputs": [
    {
     "data": {
      "text/plain": [
       "['C:\\\\Users\\\\kurt_\\\\Google Drive\\\\dell_github\\\\T-Matrix-Titan\\\\special\\\\data\\\\output\\\\1024\\\\x03360\\\\130\\\\00040\\\\mt_10_1024_03360_130_00040.dat',\n",
       " 'C:\\\\Users\\\\kurt_\\\\Google Drive\\\\dell_github\\\\T-Matrix-Titan\\\\special\\\\data\\\\output\\\\1024\\\\x03360\\\\130\\\\00040\\\\mt_11_1024_03360_130_00040.dat',\n",
       " 'C:\\\\Users\\\\kurt_\\\\Google Drive\\\\dell_github\\\\T-Matrix-Titan\\\\special\\\\data\\\\output\\\\1024\\\\x03360\\\\130\\\\00040\\\\mt_12_1024_03360_130_00040.dat',\n",
       " 'C:\\\\Users\\\\kurt_\\\\Google Drive\\\\dell_github\\\\T-Matrix-Titan\\\\special\\\\data\\\\output\\\\1024\\\\x03360\\\\130\\\\00040\\\\mt_13_1024_03360_130_00040.dat',\n",
       " 'C:\\\\Users\\\\kurt_\\\\Google Drive\\\\dell_github\\\\T-Matrix-Titan\\\\special\\\\data\\\\output\\\\1024\\\\x03360\\\\130\\\\00040\\\\mt_14_1024_03360_130_00040.dat',\n",
       " 'C:\\\\Users\\\\kurt_\\\\Google Drive\\\\dell_github\\\\T-Matrix-Titan\\\\special\\\\data\\\\output\\\\1024\\\\x03360\\\\130\\\\00040\\\\mt_15_1024_03360_130_00040.dat',\n",
       " 'C:\\\\Users\\\\kurt_\\\\Google Drive\\\\dell_github\\\\T-Matrix-Titan\\\\special\\\\data\\\\output\\\\1024\\\\x03360\\\\130\\\\00040\\\\mt_16_1024_03360_130_00040.dat',\n",
       " 'C:\\\\Users\\\\kurt_\\\\Google Drive\\\\dell_github\\\\T-Matrix-Titan\\\\special\\\\data\\\\output\\\\1024\\\\x03360\\\\130\\\\00040\\\\mt_17_1024_03360_130_00040.dat',\n",
       " 'C:\\\\Users\\\\kurt_\\\\Google Drive\\\\dell_github\\\\T-Matrix-Titan\\\\special\\\\data\\\\output\\\\1024\\\\x03360\\\\130\\\\00040\\\\mt_18_1024_03360_130_00040.dat',\n",
       " 'C:\\\\Users\\\\kurt_\\\\Google Drive\\\\dell_github\\\\T-Matrix-Titan\\\\special\\\\data\\\\output\\\\1024\\\\x03360\\\\130\\\\00040\\\\mt_19_1024_03360_130_00040.dat',\n",
       " 'C:\\\\Users\\\\kurt_\\\\Google Drive\\\\dell_github\\\\T-Matrix-Titan\\\\special\\\\data\\\\output\\\\1024\\\\x03360\\\\130\\\\00040\\\\mt_1_1024_03360_130_00040.dat',\n",
       " 'C:\\\\Users\\\\kurt_\\\\Google Drive\\\\dell_github\\\\T-Matrix-Titan\\\\special\\\\data\\\\output\\\\1024\\\\x03360\\\\130\\\\00040\\\\mt_20_1024_03360_130_00040.dat',\n",
       " 'C:\\\\Users\\\\kurt_\\\\Google Drive\\\\dell_github\\\\T-Matrix-Titan\\\\special\\\\data\\\\output\\\\1024\\\\x03360\\\\130\\\\00040\\\\mt_21_1024_03360_130_00040.dat',\n",
       " 'C:\\\\Users\\\\kurt_\\\\Google Drive\\\\dell_github\\\\T-Matrix-Titan\\\\special\\\\data\\\\output\\\\1024\\\\x03360\\\\130\\\\00040\\\\mt_22_1024_03360_130_00040.dat',\n",
       " 'C:\\\\Users\\\\kurt_\\\\Google Drive\\\\dell_github\\\\T-Matrix-Titan\\\\special\\\\data\\\\output\\\\1024\\\\x03360\\\\130\\\\00040\\\\mt_23_1024_03360_130_00040.dat',\n",
       " 'C:\\\\Users\\\\kurt_\\\\Google Drive\\\\dell_github\\\\T-Matrix-Titan\\\\special\\\\data\\\\output\\\\1024\\\\x03360\\\\130\\\\00040\\\\mt_24_1024_03360_130_00040.dat',\n",
       " 'C:\\\\Users\\\\kurt_\\\\Google Drive\\\\dell_github\\\\T-Matrix-Titan\\\\special\\\\data\\\\output\\\\1024\\\\x03360\\\\130\\\\00040\\\\mt_25_1024_03360_130_00040.dat',\n",
       " 'C:\\\\Users\\\\kurt_\\\\Google Drive\\\\dell_github\\\\T-Matrix-Titan\\\\special\\\\data\\\\output\\\\1024\\\\x03360\\\\130\\\\00040\\\\mt_2_1024_03360_130_00040.dat',\n",
       " 'C:\\\\Users\\\\kurt_\\\\Google Drive\\\\dell_github\\\\T-Matrix-Titan\\\\special\\\\data\\\\output\\\\1024\\\\x03360\\\\130\\\\00040\\\\mt_3_1024_03360_130_00040.dat',\n",
       " 'C:\\\\Users\\\\kurt_\\\\Google Drive\\\\dell_github\\\\T-Matrix-Titan\\\\special\\\\data\\\\output\\\\1024\\\\x03360\\\\130\\\\00040\\\\mt_4_1024_03360_130_00040.dat',\n",
       " 'C:\\\\Users\\\\kurt_\\\\Google Drive\\\\dell_github\\\\T-Matrix-Titan\\\\special\\\\data\\\\output\\\\1024\\\\x03360\\\\130\\\\00040\\\\mt_5_1024_03360_130_00040.dat',\n",
       " 'C:\\\\Users\\\\kurt_\\\\Google Drive\\\\dell_github\\\\T-Matrix-Titan\\\\special\\\\data\\\\output\\\\1024\\\\x03360\\\\130\\\\00040\\\\mt_6_1024_03360_130_00040.dat',\n",
       " 'C:\\\\Users\\\\kurt_\\\\Google Drive\\\\dell_github\\\\T-Matrix-Titan\\\\special\\\\data\\\\output\\\\1024\\\\x03360\\\\130\\\\00040\\\\mt_7_1024_03360_130_00040.dat',\n",
       " 'C:\\\\Users\\\\kurt_\\\\Google Drive\\\\dell_github\\\\T-Matrix-Titan\\\\special\\\\data\\\\output\\\\1024\\\\x03360\\\\130\\\\00040\\\\mt_8_1024_03360_130_00040.dat',\n",
       " 'C:\\\\Users\\\\kurt_\\\\Google Drive\\\\dell_github\\\\T-Matrix-Titan\\\\special\\\\data\\\\output\\\\1024\\\\x03360\\\\130\\\\00040\\\\mt_9_1024_03360_130_00040.dat']"
      ]
     },
     "execution_count": 58,
     "metadata": {},
     "output_type": "execute_result"
    }
   ],
   "source": [
    "tmatrix_files"
   ]
  },
  {
   "cell_type": "code",
   "execution_count": 64,
   "metadata": {},
   "outputs": [
    {
     "data": {
      "text/plain": [
       "25"
      ]
     },
     "execution_count": 64,
     "metadata": {},
     "output_type": "execute_result"
    }
   ],
   "source": [
    "i"
   ]
  },
  {
   "cell_type": "code",
   "execution_count": 48,
   "metadata": {},
   "outputs": [
    {
     "data": {
      "text/plain": [
       "['C:\\\\Users\\\\kurt_\\\\Google Drive\\\\dell_github\\\\T-Matrix-Titan\\\\special\\\\data\\\\output\\\\1024\\\\x03360\\\\130\\\\00040\\\\mt_10_1024_03360_130_00040.dat',\n",
       " 'C:\\\\Users\\\\kurt_\\\\Google Drive\\\\dell_github\\\\T-Matrix-Titan\\\\special\\\\data\\\\output\\\\1024\\\\x03360\\\\130\\\\00040\\\\mt_11_1024_03360_130_00040.dat',\n",
       " 'C:\\\\Users\\\\kurt_\\\\Google Drive\\\\dell_github\\\\T-Matrix-Titan\\\\special\\\\data\\\\output\\\\1024\\\\x03360\\\\130\\\\00040\\\\mt_12_1024_03360_130_00040.dat',\n",
       " 'C:\\\\Users\\\\kurt_\\\\Google Drive\\\\dell_github\\\\T-Matrix-Titan\\\\special\\\\data\\\\output\\\\1024\\\\x03360\\\\130\\\\00040\\\\mt_13_1024_03360_130_00040.dat',\n",
       " 'C:\\\\Users\\\\kurt_\\\\Google Drive\\\\dell_github\\\\T-Matrix-Titan\\\\special\\\\data\\\\output\\\\1024\\\\x03360\\\\130\\\\00040\\\\mt_14_1024_03360_130_00040.dat',\n",
       " 'C:\\\\Users\\\\kurt_\\\\Google Drive\\\\dell_github\\\\T-Matrix-Titan\\\\special\\\\data\\\\output\\\\1024\\\\x03360\\\\130\\\\00040\\\\mt_15_1024_03360_130_00040.dat',\n",
       " 'C:\\\\Users\\\\kurt_\\\\Google Drive\\\\dell_github\\\\T-Matrix-Titan\\\\special\\\\data\\\\output\\\\1024\\\\x03360\\\\130\\\\00040\\\\mt_16_1024_03360_130_00040.dat',\n",
       " 'C:\\\\Users\\\\kurt_\\\\Google Drive\\\\dell_github\\\\T-Matrix-Titan\\\\special\\\\data\\\\output\\\\1024\\\\x03360\\\\130\\\\00040\\\\mt_17_1024_03360_130_00040.dat',\n",
       " 'C:\\\\Users\\\\kurt_\\\\Google Drive\\\\dell_github\\\\T-Matrix-Titan\\\\special\\\\data\\\\output\\\\1024\\\\x03360\\\\130\\\\00040\\\\mt_18_1024_03360_130_00040.dat',\n",
       " 'C:\\\\Users\\\\kurt_\\\\Google Drive\\\\dell_github\\\\T-Matrix-Titan\\\\special\\\\data\\\\output\\\\1024\\\\x03360\\\\130\\\\00040\\\\mt_19_1024_03360_130_00040.dat',\n",
       " 'C:\\\\Users\\\\kurt_\\\\Google Drive\\\\dell_github\\\\T-Matrix-Titan\\\\special\\\\data\\\\output\\\\1024\\\\x03360\\\\130\\\\00040\\\\mt_1_1024_03360_130_00040.dat',\n",
       " 'C:\\\\Users\\\\kurt_\\\\Google Drive\\\\dell_github\\\\T-Matrix-Titan\\\\special\\\\data\\\\output\\\\1024\\\\x03360\\\\130\\\\00040\\\\mt_20_1024_03360_130_00040.dat',\n",
       " 'C:\\\\Users\\\\kurt_\\\\Google Drive\\\\dell_github\\\\T-Matrix-Titan\\\\special\\\\data\\\\output\\\\1024\\\\x03360\\\\130\\\\00040\\\\mt_21_1024_03360_130_00040.dat',\n",
       " 'C:\\\\Users\\\\kurt_\\\\Google Drive\\\\dell_github\\\\T-Matrix-Titan\\\\special\\\\data\\\\output\\\\1024\\\\x03360\\\\130\\\\00040\\\\mt_22_1024_03360_130_00040.dat',\n",
       " 'C:\\\\Users\\\\kurt_\\\\Google Drive\\\\dell_github\\\\T-Matrix-Titan\\\\special\\\\data\\\\output\\\\1024\\\\x03360\\\\130\\\\00040\\\\mt_23_1024_03360_130_00040.dat',\n",
       " 'C:\\\\Users\\\\kurt_\\\\Google Drive\\\\dell_github\\\\T-Matrix-Titan\\\\special\\\\data\\\\output\\\\1024\\\\x03360\\\\130\\\\00040\\\\mt_24_1024_03360_130_00040.dat',\n",
       " 'C:\\\\Users\\\\kurt_\\\\Google Drive\\\\dell_github\\\\T-Matrix-Titan\\\\special\\\\data\\\\output\\\\1024\\\\x03360\\\\130\\\\00040\\\\mt_25_1024_03360_130_00040.dat',\n",
       " 'C:\\\\Users\\\\kurt_\\\\Google Drive\\\\dell_github\\\\T-Matrix-Titan\\\\special\\\\data\\\\output\\\\1024\\\\x03360\\\\130\\\\00040\\\\mt_2_1024_03360_130_00040.dat',\n",
       " 'C:\\\\Users\\\\kurt_\\\\Google Drive\\\\dell_github\\\\T-Matrix-Titan\\\\special\\\\data\\\\output\\\\1024\\\\x03360\\\\130\\\\00040\\\\mt_3_1024_03360_130_00040.dat',\n",
       " 'C:\\\\Users\\\\kurt_\\\\Google Drive\\\\dell_github\\\\T-Matrix-Titan\\\\special\\\\data\\\\output\\\\1024\\\\x03360\\\\130\\\\00040\\\\mt_4_1024_03360_130_00040.dat',\n",
       " 'C:\\\\Users\\\\kurt_\\\\Google Drive\\\\dell_github\\\\T-Matrix-Titan\\\\special\\\\data\\\\output\\\\1024\\\\x03360\\\\130\\\\00040\\\\mt_5_1024_03360_130_00040.dat',\n",
       " 'C:\\\\Users\\\\kurt_\\\\Google Drive\\\\dell_github\\\\T-Matrix-Titan\\\\special\\\\data\\\\output\\\\1024\\\\x03360\\\\130\\\\00040\\\\mt_6_1024_03360_130_00040.dat',\n",
       " 'C:\\\\Users\\\\kurt_\\\\Google Drive\\\\dell_github\\\\T-Matrix-Titan\\\\special\\\\data\\\\output\\\\1024\\\\x03360\\\\130\\\\00040\\\\mt_7_1024_03360_130_00040.dat',\n",
       " 'C:\\\\Users\\\\kurt_\\\\Google Drive\\\\dell_github\\\\T-Matrix-Titan\\\\special\\\\data\\\\output\\\\1024\\\\x03360\\\\130\\\\00040\\\\mt_8_1024_03360_130_00040.dat',\n",
       " 'C:\\\\Users\\\\kurt_\\\\Google Drive\\\\dell_github\\\\T-Matrix-Titan\\\\special\\\\data\\\\output\\\\1024\\\\x03360\\\\130\\\\00040\\\\mt_9_1024_03360_130_00040.dat']"
      ]
     },
     "execution_count": 48,
     "metadata": {},
     "output_type": "execute_result"
    }
   ],
   "source": [
    "qs = glob.glob(\n",
    "            dtdir+_sl.join([N,xm,nr,ni,''])+\"*.dat\")\n",
    "qs"
   ]
  },
  {
   "cell_type": "code",
   "execution_count": 35,
   "metadata": {},
   "outputs": [
    {
     "data": {
      "text/plain": [
       "'C:\\\\Users\\\\kurt_\\\\Google Drive\\\\dell_github\\\\T-Matrix-Titan\\\\special\\\\data\\\\output\\\\1024\\\\x03360\\\\130\\\\00040\\\\'"
      ]
     },
     "execution_count": 35,
     "metadata": {},
     "output_type": "execute_result"
    }
   ],
   "source": [
    "dtdir+_sl.join([N,xm,nr,ni,''])"
   ]
  },
  {
   "cell_type": "code",
   "execution_count": 33,
   "metadata": {},
   "outputs": [
    {
     "data": {
      "text/plain": [
       "['C:\\\\Users\\\\kurt_\\\\Google Drive\\\\dell_github\\\\T-Matrix-Titan\\\\special\\\\data\\\\output\\\\1024\\\\x03360\\\\130\\\\00040\\\\mt_10_1024_03360_130_00040.dat',\n",
       " 'C:\\\\Users\\\\kurt_\\\\Google Drive\\\\dell_github\\\\T-Matrix-Titan\\\\special\\\\data\\\\output\\\\1024\\\\x03360\\\\130\\\\00040\\\\mt_11_1024_03360_130_00040.dat',\n",
       " 'C:\\\\Users\\\\kurt_\\\\Google Drive\\\\dell_github\\\\T-Matrix-Titan\\\\special\\\\data\\\\output\\\\1024\\\\x03360\\\\130\\\\00040\\\\mt_12_1024_03360_130_00040.dat',\n",
       " 'C:\\\\Users\\\\kurt_\\\\Google Drive\\\\dell_github\\\\T-Matrix-Titan\\\\special\\\\data\\\\output\\\\1024\\\\x03360\\\\130\\\\00040\\\\mt_13_1024_03360_130_00040.dat',\n",
       " 'C:\\\\Users\\\\kurt_\\\\Google Drive\\\\dell_github\\\\T-Matrix-Titan\\\\special\\\\data\\\\output\\\\1024\\\\x03360\\\\130\\\\00040\\\\mt_14_1024_03360_130_00040.dat',\n",
       " 'C:\\\\Users\\\\kurt_\\\\Google Drive\\\\dell_github\\\\T-Matrix-Titan\\\\special\\\\data\\\\output\\\\1024\\\\x03360\\\\130\\\\00040\\\\mt_15_1024_03360_130_00040.dat',\n",
       " 'C:\\\\Users\\\\kurt_\\\\Google Drive\\\\dell_github\\\\T-Matrix-Titan\\\\special\\\\data\\\\output\\\\1024\\\\x03360\\\\130\\\\00040\\\\mt_16_1024_03360_130_00040.dat',\n",
       " 'C:\\\\Users\\\\kurt_\\\\Google Drive\\\\dell_github\\\\T-Matrix-Titan\\\\special\\\\data\\\\output\\\\1024\\\\x03360\\\\130\\\\00040\\\\mt_17_1024_03360_130_00040.dat',\n",
       " 'C:\\\\Users\\\\kurt_\\\\Google Drive\\\\dell_github\\\\T-Matrix-Titan\\\\special\\\\data\\\\output\\\\1024\\\\x03360\\\\130\\\\00040\\\\mt_18_1024_03360_130_00040.dat',\n",
       " 'C:\\\\Users\\\\kurt_\\\\Google Drive\\\\dell_github\\\\T-Matrix-Titan\\\\special\\\\data\\\\output\\\\1024\\\\x03360\\\\130\\\\00040\\\\mt_19_1024_03360_130_00040.dat',\n",
       " 'C:\\\\Users\\\\kurt_\\\\Google Drive\\\\dell_github\\\\T-Matrix-Titan\\\\special\\\\data\\\\output\\\\1024\\\\x03360\\\\130\\\\00040\\\\mt_1_1024_03360_130_00040.dat',\n",
       " 'C:\\\\Users\\\\kurt_\\\\Google Drive\\\\dell_github\\\\T-Matrix-Titan\\\\special\\\\data\\\\output\\\\1024\\\\x03360\\\\130\\\\00040\\\\mt_20_1024_03360_130_00040.dat',\n",
       " 'C:\\\\Users\\\\kurt_\\\\Google Drive\\\\dell_github\\\\T-Matrix-Titan\\\\special\\\\data\\\\output\\\\1024\\\\x03360\\\\130\\\\00040\\\\mt_21_1024_03360_130_00040.dat',\n",
       " 'C:\\\\Users\\\\kurt_\\\\Google Drive\\\\dell_github\\\\T-Matrix-Titan\\\\special\\\\data\\\\output\\\\1024\\\\x03360\\\\130\\\\00040\\\\mt_22_1024_03360_130_00040.dat',\n",
       " 'C:\\\\Users\\\\kurt_\\\\Google Drive\\\\dell_github\\\\T-Matrix-Titan\\\\special\\\\data\\\\output\\\\1024\\\\x03360\\\\130\\\\00040\\\\mt_23_1024_03360_130_00040.dat',\n",
       " 'C:\\\\Users\\\\kurt_\\\\Google Drive\\\\dell_github\\\\T-Matrix-Titan\\\\special\\\\data\\\\output\\\\1024\\\\x03360\\\\130\\\\00040\\\\mt_24_1024_03360_130_00040.dat',\n",
       " 'C:\\\\Users\\\\kurt_\\\\Google Drive\\\\dell_github\\\\T-Matrix-Titan\\\\special\\\\data\\\\output\\\\1024\\\\x03360\\\\130\\\\00040\\\\mt_25_1024_03360_130_00040.dat',\n",
       " 'C:\\\\Users\\\\kurt_\\\\Google Drive\\\\dell_github\\\\T-Matrix-Titan\\\\special\\\\data\\\\output\\\\1024\\\\x03360\\\\130\\\\00040\\\\mt_2_1024_03360_130_00040.dat',\n",
       " 'C:\\\\Users\\\\kurt_\\\\Google Drive\\\\dell_github\\\\T-Matrix-Titan\\\\special\\\\data\\\\output\\\\1024\\\\x03360\\\\130\\\\00040\\\\mt_3_1024_03360_130_00040.dat',\n",
       " 'C:\\\\Users\\\\kurt_\\\\Google Drive\\\\dell_github\\\\T-Matrix-Titan\\\\special\\\\data\\\\output\\\\1024\\\\x03360\\\\130\\\\00040\\\\mt_4_1024_03360_130_00040.dat',\n",
       " 'C:\\\\Users\\\\kurt_\\\\Google Drive\\\\dell_github\\\\T-Matrix-Titan\\\\special\\\\data\\\\output\\\\1024\\\\x03360\\\\130\\\\00040\\\\mt_5_1024_03360_130_00040.dat',\n",
       " 'C:\\\\Users\\\\kurt_\\\\Google Drive\\\\dell_github\\\\T-Matrix-Titan\\\\special\\\\data\\\\output\\\\1024\\\\x03360\\\\130\\\\00040\\\\mt_6_1024_03360_130_00040.dat',\n",
       " 'C:\\\\Users\\\\kurt_\\\\Google Drive\\\\dell_github\\\\T-Matrix-Titan\\\\special\\\\data\\\\output\\\\1024\\\\x03360\\\\130\\\\00040\\\\mt_7_1024_03360_130_00040.dat',\n",
       " 'C:\\\\Users\\\\kurt_\\\\Google Drive\\\\dell_github\\\\T-Matrix-Titan\\\\special\\\\data\\\\output\\\\1024\\\\x03360\\\\130\\\\00040\\\\mt_8_1024_03360_130_00040.dat',\n",
       " 'C:\\\\Users\\\\kurt_\\\\Google Drive\\\\dell_github\\\\T-Matrix-Titan\\\\special\\\\data\\\\output\\\\1024\\\\x03360\\\\130\\\\00040\\\\mt_9_1024_03360_130_00040.dat']"
      ]
     },
     "execution_count": 33,
     "metadata": {},
     "output_type": "execute_result"
    }
   ],
   "source": [
    "path='C:\\\\Users\\\\kurt_'\n",
    "glob.glob('C:\\\\Users\\\\kurt_\\\\Google Drive\\\\dell_github\\\\T-Matrix-Titan\\\\special\\\\data\\\\output\\\\1024\\\\x03360\\\\130\\\\00040\\\\*')"
   ]
  },
  {
   "cell_type": "code",
   "execution_count": 30,
   "metadata": {},
   "outputs": [
    {
     "data": {
      "text/plain": [
       "['C:\\\\Users\\\\kurt_\\\\Google Drive\\\\dell_github\\\\T-Matrix-Titan\\\\special\\\\data\\\\output\\\\128\\\\x04000\\\\150\\\\04030\\\\mt_11_128_04000_150_04030.dat',\n",
       " 'C:\\\\Users\\\\kurt_\\\\Google Drive\\\\dell_github\\\\T-Matrix-Titan\\\\special\\\\data\\\\output\\\\128\\\\x04000\\\\150\\\\04030\\\\mt_13_128_04000_150_04030.dat',\n",
       " 'C:\\\\Users\\\\kurt_\\\\Google Drive\\\\dell_github\\\\T-Matrix-Titan\\\\special\\\\data\\\\output\\\\128\\\\x04000\\\\150\\\\04030\\\\mt_15_128_04000_150_04030.dat',\n",
       " 'C:\\\\Users\\\\kurt_\\\\Google Drive\\\\dell_github\\\\T-Matrix-Titan\\\\special\\\\data\\\\output\\\\128\\\\x04000\\\\150\\\\04030\\\\mt_17_128_04000_150_04030.dat',\n",
       " 'C:\\\\Users\\\\kurt_\\\\Google Drive\\\\dell_github\\\\T-Matrix-Titan\\\\special\\\\data\\\\output\\\\128\\\\x04000\\\\150\\\\04030\\\\mt_19_128_04000_150_04030.dat',\n",
       " 'C:\\\\Users\\\\kurt_\\\\Google Drive\\\\dell_github\\\\T-Matrix-Titan\\\\special\\\\data\\\\output\\\\128\\\\x04000\\\\150\\\\04030\\\\mt_1_128_04000_150_04030.dat',\n",
       " 'C:\\\\Users\\\\kurt_\\\\Google Drive\\\\dell_github\\\\T-Matrix-Titan\\\\special\\\\data\\\\output\\\\128\\\\x04000\\\\150\\\\04030\\\\mt_3_128_04000_150_04030.dat',\n",
       " 'C:\\\\Users\\\\kurt_\\\\Google Drive\\\\dell_github\\\\T-Matrix-Titan\\\\special\\\\data\\\\output\\\\128\\\\x04000\\\\150\\\\04030\\\\mt_5_128_04000_150_04030.dat',\n",
       " 'C:\\\\Users\\\\kurt_\\\\Google Drive\\\\dell_github\\\\T-Matrix-Titan\\\\special\\\\data\\\\output\\\\128\\\\x04000\\\\150\\\\04030\\\\mt_7_128_04000_150_04030.dat',\n",
       " 'C:\\\\Users\\\\kurt_\\\\Google Drive\\\\dell_github\\\\T-Matrix-Titan\\\\special\\\\data\\\\output\\\\128\\\\x04000\\\\150\\\\04030\\\\mt_9_128_04000_150_04030.dat']"
      ]
     },
     "execution_count": 30,
     "metadata": {},
     "output_type": "execute_result"
    }
   ],
   "source": [
    "glob.glob('C:\\\\Users\\\\kurt_\\\\Google Drive\\\\dell_github\\\\T-Matrix-Titan\\\\special\\\\data\\\\output\\\\128\\\\x04000\\\\150\\\\04030\\\\*')"
   ]
  }
 ],
 "metadata": {
  "interpreter": {
   "hash": "03e7d9951a05158ee89ed484d7d07ddaec2c8abe0ca368e179a11d743611438e"
  },
  "kernelspec": {
   "display_name": "Python 3.7.10 64-bit ('base': conda)",
   "language": "python",
   "name": "python3"
  },
  "language_info": {
   "codemirror_mode": {
    "name": "ipython",
    "version": 3
   },
   "file_extension": ".py",
   "mimetype": "text/x-python",
   "name": "python",
   "nbconvert_exporter": "python",
   "pygments_lexer": "ipython3",
   "version": "3.7.10"
  },
  "orig_nbformat": 4
 },
 "nbformat": 4,
 "nbformat_minor": 2
}
